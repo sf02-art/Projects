{
 "cells": [
  {
   "cell_type": "markdown",
   "metadata": {},
   "source": [
    "# 10. Сборный проект 2. Анализ пользовательского поведения в мобильном приложении "
   ]
  },
  {
   "cell_type": "markdown",
   "metadata": {},
   "source": [
    "## Описание проекта\n",
    "Вы работаете в стартапе, который продаёт продукты питания. Нужно разобраться, как ведут себя пользователи вашего мобильного приложения. \n",
    "\n",
    "Изучите воронку продаж. Узнайте, как пользователи доходят до покупки. Сколько пользователей доходит до покупки, а сколько — «застревает» на предыдущих шагах? На каких именно?\n",
    "\n",
    "После этого исследуйте результаты A/A/B-эксперимента. Дизайнеры захотели поменять шрифты во всём приложении, а менеджеры испугались, что пользователям будет непривычно. Договорились принять решение по результатам A/A/B-теста. Пользователей разбили на 3 группы: 2 контрольные со старыми шрифтами и одну экспериментальную — с новыми. Выясните, какой шрифт лучше."
   ]
  },
  {
   "cell_type": "markdown",
   "metadata": {},
   "source": [
    "# Импорт библиотек и загрузка данных"
   ]
  },
  {
   "cell_type": "code",
   "execution_count": 1,
   "metadata": {},
   "outputs": [
    {
     "data": {
      "text/html": [
       "<div>\n",
       "<style scoped>\n",
       "    .dataframe tbody tr th:only-of-type {\n",
       "        vertical-align: middle;\n",
       "    }\n",
       "\n",
       "    .dataframe tbody tr th {\n",
       "        vertical-align: top;\n",
       "    }\n",
       "\n",
       "    .dataframe thead th {\n",
       "        text-align: right;\n",
       "    }\n",
       "</style>\n",
       "<table border=\"1\" class=\"dataframe\">\n",
       "  <thead>\n",
       "    <tr style=\"text-align: right;\">\n",
       "      <th></th>\n",
       "      <th>EventName</th>\n",
       "      <th>DeviceIDHash</th>\n",
       "      <th>EventTimestamp</th>\n",
       "      <th>ExpId</th>\n",
       "    </tr>\n",
       "  </thead>\n",
       "  <tbody>\n",
       "    <tr>\n",
       "      <th>0</th>\n",
       "      <td>MainScreenAppear</td>\n",
       "      <td>4575588528974610257</td>\n",
       "      <td>1564029816</td>\n",
       "      <td>246</td>\n",
       "    </tr>\n",
       "    <tr>\n",
       "      <th>1</th>\n",
       "      <td>MainScreenAppear</td>\n",
       "      <td>7416695313311560658</td>\n",
       "      <td>1564053102</td>\n",
       "      <td>246</td>\n",
       "    </tr>\n",
       "    <tr>\n",
       "      <th>2</th>\n",
       "      <td>PaymentScreenSuccessful</td>\n",
       "      <td>3518123091307005509</td>\n",
       "      <td>1564054127</td>\n",
       "      <td>248</td>\n",
       "    </tr>\n",
       "    <tr>\n",
       "      <th>3</th>\n",
       "      <td>CartScreenAppear</td>\n",
       "      <td>3518123091307005509</td>\n",
       "      <td>1564054127</td>\n",
       "      <td>248</td>\n",
       "    </tr>\n",
       "    <tr>\n",
       "      <th>4</th>\n",
       "      <td>PaymentScreenSuccessful</td>\n",
       "      <td>6217807653094995999</td>\n",
       "      <td>1564055322</td>\n",
       "      <td>248</td>\n",
       "    </tr>\n",
       "    <tr>\n",
       "      <th>...</th>\n",
       "      <td>...</td>\n",
       "      <td>...</td>\n",
       "      <td>...</td>\n",
       "      <td>...</td>\n",
       "    </tr>\n",
       "    <tr>\n",
       "      <th>244121</th>\n",
       "      <td>MainScreenAppear</td>\n",
       "      <td>4599628364049201812</td>\n",
       "      <td>1565212345</td>\n",
       "      <td>247</td>\n",
       "    </tr>\n",
       "    <tr>\n",
       "      <th>244122</th>\n",
       "      <td>MainScreenAppear</td>\n",
       "      <td>5849806612437486590</td>\n",
       "      <td>1565212439</td>\n",
       "      <td>246</td>\n",
       "    </tr>\n",
       "    <tr>\n",
       "      <th>244123</th>\n",
       "      <td>MainScreenAppear</td>\n",
       "      <td>5746969938801999050</td>\n",
       "      <td>1565212483</td>\n",
       "      <td>246</td>\n",
       "    </tr>\n",
       "    <tr>\n",
       "      <th>244124</th>\n",
       "      <td>MainScreenAppear</td>\n",
       "      <td>5746969938801999050</td>\n",
       "      <td>1565212498</td>\n",
       "      <td>246</td>\n",
       "    </tr>\n",
       "    <tr>\n",
       "      <th>244125</th>\n",
       "      <td>OffersScreenAppear</td>\n",
       "      <td>5746969938801999050</td>\n",
       "      <td>1565212517</td>\n",
       "      <td>246</td>\n",
       "    </tr>\n",
       "  </tbody>\n",
       "</table>\n",
       "<p>244126 rows × 4 columns</p>\n",
       "</div>"
      ],
      "text/plain": [
       "                      EventName         DeviceIDHash  EventTimestamp  ExpId\n",
       "0              MainScreenAppear  4575588528974610257      1564029816    246\n",
       "1              MainScreenAppear  7416695313311560658      1564053102    246\n",
       "2       PaymentScreenSuccessful  3518123091307005509      1564054127    248\n",
       "3              CartScreenAppear  3518123091307005509      1564054127    248\n",
       "4       PaymentScreenSuccessful  6217807653094995999      1564055322    248\n",
       "...                         ...                  ...             ...    ...\n",
       "244121         MainScreenAppear  4599628364049201812      1565212345    247\n",
       "244122         MainScreenAppear  5849806612437486590      1565212439    246\n",
       "244123         MainScreenAppear  5746969938801999050      1565212483    246\n",
       "244124         MainScreenAppear  5746969938801999050      1565212498    246\n",
       "244125       OffersScreenAppear  5746969938801999050      1565212517    246\n",
       "\n",
       "[244126 rows x 4 columns]"
      ]
     },
     "metadata": {},
     "output_type": "display_data"
    }
   ],
   "source": [
    "import pandas as pd\n",
    "import numpy as np\n",
    "import matplotlib.pyplot as plt\n",
    "import seaborn as sns\n",
    "import math as mth\n",
    "from scipy import stats as st\n",
    "df= pd.read_csv( '/datasets/logs_exp.csv',sep='\\t')\n",
    "display(df)"
   ]
  },
  {
   "cell_type": "markdown",
   "metadata": {},
   "source": [
    "# Изучение и подготовка данных"
   ]
  },
  {
   "cell_type": "code",
   "execution_count": 2,
   "metadata": {},
   "outputs": [
    {
     "name": "stdout",
     "output_type": "stream",
     "text": [
      "<class 'pandas.core.frame.DataFrame'>\n",
      "RangeIndex: 244126 entries, 0 to 244125\n",
      "Data columns (total 4 columns):\n",
      " #   Column          Non-Null Count   Dtype \n",
      "---  ------          --------------   ----- \n",
      " 0   EventName       244126 non-null  object\n",
      " 1   DeviceIDHash    244126 non-null  int64 \n",
      " 2   EventTimestamp  244126 non-null  int64 \n",
      " 3   ExpId           244126 non-null  int64 \n",
      "dtypes: int64(3), object(1)\n",
      "memory usage: 7.5+ MB\n",
      "\n",
      "Число дубликатов: 413\n"
     ]
    }
   ],
   "source": [
    "df.info()\n",
    "print('\\nЧисло дубликатов:', df.duplicated().sum())"
   ]
  },
  {
   "cell_type": "code",
   "execution_count": 3,
   "metadata": {},
   "outputs": [
    {
     "data": {
      "text/html": [
       "<div>\n",
       "<style scoped>\n",
       "    .dataframe tbody tr th:only-of-type {\n",
       "        vertical-align: middle;\n",
       "    }\n",
       "\n",
       "    .dataframe tbody tr th {\n",
       "        vertical-align: top;\n",
       "    }\n",
       "\n",
       "    .dataframe thead th {\n",
       "        text-align: right;\n",
       "    }\n",
       "</style>\n",
       "<table border=\"1\" class=\"dataframe\">\n",
       "  <thead>\n",
       "    <tr style=\"text-align: right;\">\n",
       "      <th></th>\n",
       "      <th>EventName</th>\n",
       "      <th>DeviceIDHash</th>\n",
       "      <th>EventTimestamp</th>\n",
       "      <th>ExpId</th>\n",
       "    </tr>\n",
       "  </thead>\n",
       "  <tbody>\n",
       "    <tr>\n",
       "      <th>453</th>\n",
       "      <td>MainScreenAppear</td>\n",
       "      <td>5613408041324010552</td>\n",
       "      <td>1564474784</td>\n",
       "      <td>248</td>\n",
       "    </tr>\n",
       "    <tr>\n",
       "      <th>2350</th>\n",
       "      <td>CartScreenAppear</td>\n",
       "      <td>1694940645335807244</td>\n",
       "      <td>1564609899</td>\n",
       "      <td>248</td>\n",
       "    </tr>\n",
       "    <tr>\n",
       "      <th>3573</th>\n",
       "      <td>MainScreenAppear</td>\n",
       "      <td>434103746454591587</td>\n",
       "      <td>1564628377</td>\n",
       "      <td>248</td>\n",
       "    </tr>\n",
       "    <tr>\n",
       "      <th>4076</th>\n",
       "      <td>MainScreenAppear</td>\n",
       "      <td>3761373764179762633</td>\n",
       "      <td>1564631266</td>\n",
       "      <td>247</td>\n",
       "    </tr>\n",
       "    <tr>\n",
       "      <th>4803</th>\n",
       "      <td>MainScreenAppear</td>\n",
       "      <td>2835328739789306622</td>\n",
       "      <td>1564634641</td>\n",
       "      <td>248</td>\n",
       "    </tr>\n",
       "    <tr>\n",
       "      <th>...</th>\n",
       "      <td>...</td>\n",
       "      <td>...</td>\n",
       "      <td>...</td>\n",
       "      <td>...</td>\n",
       "    </tr>\n",
       "    <tr>\n",
       "      <th>242329</th>\n",
       "      <td>MainScreenAppear</td>\n",
       "      <td>8870358373313968633</td>\n",
       "      <td>1565206004</td>\n",
       "      <td>247</td>\n",
       "    </tr>\n",
       "    <tr>\n",
       "      <th>242332</th>\n",
       "      <td>PaymentScreenSuccessful</td>\n",
       "      <td>4718002964983105693</td>\n",
       "      <td>1565206005</td>\n",
       "      <td>247</td>\n",
       "    </tr>\n",
       "    <tr>\n",
       "      <th>242360</th>\n",
       "      <td>PaymentScreenSuccessful</td>\n",
       "      <td>2382591782303281935</td>\n",
       "      <td>1565206049</td>\n",
       "      <td>246</td>\n",
       "    </tr>\n",
       "    <tr>\n",
       "      <th>242362</th>\n",
       "      <td>CartScreenAppear</td>\n",
       "      <td>2382591782303281935</td>\n",
       "      <td>1565206049</td>\n",
       "      <td>246</td>\n",
       "    </tr>\n",
       "    <tr>\n",
       "      <th>242635</th>\n",
       "      <td>MainScreenAppear</td>\n",
       "      <td>4097782667445790512</td>\n",
       "      <td>1565206618</td>\n",
       "      <td>246</td>\n",
       "    </tr>\n",
       "  </tbody>\n",
       "</table>\n",
       "<p>413 rows × 4 columns</p>\n",
       "</div>"
      ],
      "text/plain": [
       "                      EventName         DeviceIDHash  EventTimestamp  ExpId\n",
       "453            MainScreenAppear  5613408041324010552      1564474784    248\n",
       "2350           CartScreenAppear  1694940645335807244      1564609899    248\n",
       "3573           MainScreenAppear   434103746454591587      1564628377    248\n",
       "4076           MainScreenAppear  3761373764179762633      1564631266    247\n",
       "4803           MainScreenAppear  2835328739789306622      1564634641    248\n",
       "...                         ...                  ...             ...    ...\n",
       "242329         MainScreenAppear  8870358373313968633      1565206004    247\n",
       "242332  PaymentScreenSuccessful  4718002964983105693      1565206005    247\n",
       "242360  PaymentScreenSuccessful  2382591782303281935      1565206049    246\n",
       "242362         CartScreenAppear  2382591782303281935      1565206049    246\n",
       "242635         MainScreenAppear  4097782667445790512      1565206618    246\n",
       "\n",
       "[413 rows x 4 columns]"
      ]
     },
     "execution_count": 3,
     "metadata": {},
     "output_type": "execute_result"
    }
   ],
   "source": [
    "df[df.duplicated()]"
   ]
  },
  {
   "cell_type": "code",
   "execution_count": 4,
   "metadata": {},
   "outputs": [
    {
     "name": "stdout",
     "output_type": "stream",
     "text": [
      "EventName         0\n",
      "DeviceIDHash      0\n",
      "EventTimestamp    0\n",
      "ExpId             0\n",
      "dtype: int64\n"
     ]
    }
   ],
   "source": [
    "#посмотрим количество пропусков\n",
    "print(df.isna().sum())"
   ]
  },
  {
   "cell_type": "code",
   "execution_count": 5,
   "metadata": {},
   "outputs": [
    {
     "data": {
      "text/plain": [
       "array(['MainScreenAppear', 'PaymentScreenSuccessful', 'CartScreenAppear',\n",
       "       'OffersScreenAppear', 'Tutorial'], dtype=object)"
      ]
     },
     "execution_count": 5,
     "metadata": {},
     "output_type": "execute_result"
    }
   ],
   "source": [
    "df['EventName'].unique()"
   ]
  },
  {
   "cell_type": "markdown",
   "metadata": {},
   "source": [
    "Изменение названий столбцов"
   ]
  },
  {
   "cell_type": "code",
   "execution_count": 6,
   "metadata": {},
   "outputs": [],
   "source": [
    "df.columns=['event','user_id','event_time','gr']"
   ]
  },
  {
   "cell_type": "code",
   "execution_count": 7,
   "metadata": {},
   "outputs": [
    {
     "data": {
      "text/html": [
       "<div>\n",
       "<style scoped>\n",
       "    .dataframe tbody tr th:only-of-type {\n",
       "        vertical-align: middle;\n",
       "    }\n",
       "\n",
       "    .dataframe tbody tr th {\n",
       "        vertical-align: top;\n",
       "    }\n",
       "\n",
       "    .dataframe thead th {\n",
       "        text-align: right;\n",
       "    }\n",
       "</style>\n",
       "<table border=\"1\" class=\"dataframe\">\n",
       "  <thead>\n",
       "    <tr style=\"text-align: right;\">\n",
       "      <th></th>\n",
       "      <th>event</th>\n",
       "      <th>user_id</th>\n",
       "      <th>event_time</th>\n",
       "      <th>gr</th>\n",
       "    </tr>\n",
       "  </thead>\n",
       "  <tbody>\n",
       "    <tr>\n",
       "      <th>0</th>\n",
       "      <td>MainScreenAppear</td>\n",
       "      <td>4575588528974610257</td>\n",
       "      <td>1564029816</td>\n",
       "      <td>246</td>\n",
       "    </tr>\n",
       "    <tr>\n",
       "      <th>1</th>\n",
       "      <td>MainScreenAppear</td>\n",
       "      <td>7416695313311560658</td>\n",
       "      <td>1564053102</td>\n",
       "      <td>246</td>\n",
       "    </tr>\n",
       "    <tr>\n",
       "      <th>2</th>\n",
       "      <td>PaymentScreenSuccessful</td>\n",
       "      <td>3518123091307005509</td>\n",
       "      <td>1564054127</td>\n",
       "      <td>248</td>\n",
       "    </tr>\n",
       "    <tr>\n",
       "      <th>3</th>\n",
       "      <td>CartScreenAppear</td>\n",
       "      <td>3518123091307005509</td>\n",
       "      <td>1564054127</td>\n",
       "      <td>248</td>\n",
       "    </tr>\n",
       "    <tr>\n",
       "      <th>4</th>\n",
       "      <td>PaymentScreenSuccessful</td>\n",
       "      <td>6217807653094995999</td>\n",
       "      <td>1564055322</td>\n",
       "      <td>248</td>\n",
       "    </tr>\n",
       "  </tbody>\n",
       "</table>\n",
       "</div>"
      ],
      "text/plain": [
       "                     event              user_id  event_time   gr\n",
       "0         MainScreenAppear  4575588528974610257  1564029816  246\n",
       "1         MainScreenAppear  7416695313311560658  1564053102  246\n",
       "2  PaymentScreenSuccessful  3518123091307005509  1564054127  248\n",
       "3         CartScreenAppear  3518123091307005509  1564054127  248\n",
       "4  PaymentScreenSuccessful  6217807653094995999  1564055322  248"
      ]
     },
     "execution_count": 7,
     "metadata": {},
     "output_type": "execute_result"
    }
   ],
   "source": [
    "df.head()"
   ]
  },
  {
   "cell_type": "markdown",
   "metadata": {},
   "source": [
    "Удалим дубликаты, создаем столбец даты, приведем столбец даты к формату даты и времени"
   ]
  },
  {
   "cell_type": "code",
   "execution_count": 8,
   "metadata": {},
   "outputs": [],
   "source": [
    "#df=df.drop_duplicates() #были просмотрены дупликаты и принято решение не удалять их, так как в дубликаты вошли названия и повторяющиеся пользователи.\n",
    "df['event_time']=pd.to_datetime(df['event_time'], unit='s')\n",
    "df['date']  = df['event_time'].dt.date"
   ]
  },
  {
   "cell_type": "code",
   "execution_count": 9,
   "metadata": {},
   "outputs": [
    {
     "data": {
      "text/html": [
       "<div>\n",
       "<style scoped>\n",
       "    .dataframe tbody tr th:only-of-type {\n",
       "        vertical-align: middle;\n",
       "    }\n",
       "\n",
       "    .dataframe tbody tr th {\n",
       "        vertical-align: top;\n",
       "    }\n",
       "\n",
       "    .dataframe thead th {\n",
       "        text-align: right;\n",
       "    }\n",
       "</style>\n",
       "<table border=\"1\" class=\"dataframe\">\n",
       "  <thead>\n",
       "    <tr style=\"text-align: right;\">\n",
       "      <th></th>\n",
       "      <th>event</th>\n",
       "      <th>user_id</th>\n",
       "      <th>event_time</th>\n",
       "      <th>gr</th>\n",
       "      <th>date</th>\n",
       "    </tr>\n",
       "  </thead>\n",
       "  <tbody>\n",
       "    <tr>\n",
       "      <th>0</th>\n",
       "      <td>MainScreenAppear</td>\n",
       "      <td>4575588528974610257</td>\n",
       "      <td>2019-07-25 04:43:36</td>\n",
       "      <td>246</td>\n",
       "      <td>2019-07-25</td>\n",
       "    </tr>\n",
       "    <tr>\n",
       "      <th>1</th>\n",
       "      <td>MainScreenAppear</td>\n",
       "      <td>7416695313311560658</td>\n",
       "      <td>2019-07-25 11:11:42</td>\n",
       "      <td>246</td>\n",
       "      <td>2019-07-25</td>\n",
       "    </tr>\n",
       "    <tr>\n",
       "      <th>2</th>\n",
       "      <td>PaymentScreenSuccessful</td>\n",
       "      <td>3518123091307005509</td>\n",
       "      <td>2019-07-25 11:28:47</td>\n",
       "      <td>248</td>\n",
       "      <td>2019-07-25</td>\n",
       "    </tr>\n",
       "    <tr>\n",
       "      <th>3</th>\n",
       "      <td>CartScreenAppear</td>\n",
       "      <td>3518123091307005509</td>\n",
       "      <td>2019-07-25 11:28:47</td>\n",
       "      <td>248</td>\n",
       "      <td>2019-07-25</td>\n",
       "    </tr>\n",
       "    <tr>\n",
       "      <th>4</th>\n",
       "      <td>PaymentScreenSuccessful</td>\n",
       "      <td>6217807653094995999</td>\n",
       "      <td>2019-07-25 11:48:42</td>\n",
       "      <td>248</td>\n",
       "      <td>2019-07-25</td>\n",
       "    </tr>\n",
       "    <tr>\n",
       "      <th>...</th>\n",
       "      <td>...</td>\n",
       "      <td>...</td>\n",
       "      <td>...</td>\n",
       "      <td>...</td>\n",
       "      <td>...</td>\n",
       "    </tr>\n",
       "    <tr>\n",
       "      <th>244121</th>\n",
       "      <td>MainScreenAppear</td>\n",
       "      <td>4599628364049201812</td>\n",
       "      <td>2019-08-07 21:12:25</td>\n",
       "      <td>247</td>\n",
       "      <td>2019-08-07</td>\n",
       "    </tr>\n",
       "    <tr>\n",
       "      <th>244122</th>\n",
       "      <td>MainScreenAppear</td>\n",
       "      <td>5849806612437486590</td>\n",
       "      <td>2019-08-07 21:13:59</td>\n",
       "      <td>246</td>\n",
       "      <td>2019-08-07</td>\n",
       "    </tr>\n",
       "    <tr>\n",
       "      <th>244123</th>\n",
       "      <td>MainScreenAppear</td>\n",
       "      <td>5746969938801999050</td>\n",
       "      <td>2019-08-07 21:14:43</td>\n",
       "      <td>246</td>\n",
       "      <td>2019-08-07</td>\n",
       "    </tr>\n",
       "    <tr>\n",
       "      <th>244124</th>\n",
       "      <td>MainScreenAppear</td>\n",
       "      <td>5746969938801999050</td>\n",
       "      <td>2019-08-07 21:14:58</td>\n",
       "      <td>246</td>\n",
       "      <td>2019-08-07</td>\n",
       "    </tr>\n",
       "    <tr>\n",
       "      <th>244125</th>\n",
       "      <td>OffersScreenAppear</td>\n",
       "      <td>5746969938801999050</td>\n",
       "      <td>2019-08-07 21:15:17</td>\n",
       "      <td>246</td>\n",
       "      <td>2019-08-07</td>\n",
       "    </tr>\n",
       "  </tbody>\n",
       "</table>\n",
       "<p>244126 rows × 5 columns</p>\n",
       "</div>"
      ],
      "text/plain": [
       "                          event              user_id          event_time   gr  \\\n",
       "0              MainScreenAppear  4575588528974610257 2019-07-25 04:43:36  246   \n",
       "1              MainScreenAppear  7416695313311560658 2019-07-25 11:11:42  246   \n",
       "2       PaymentScreenSuccessful  3518123091307005509 2019-07-25 11:28:47  248   \n",
       "3              CartScreenAppear  3518123091307005509 2019-07-25 11:28:47  248   \n",
       "4       PaymentScreenSuccessful  6217807653094995999 2019-07-25 11:48:42  248   \n",
       "...                         ...                  ...                 ...  ...   \n",
       "244121         MainScreenAppear  4599628364049201812 2019-08-07 21:12:25  247   \n",
       "244122         MainScreenAppear  5849806612437486590 2019-08-07 21:13:59  246   \n",
       "244123         MainScreenAppear  5746969938801999050 2019-08-07 21:14:43  246   \n",
       "244124         MainScreenAppear  5746969938801999050 2019-08-07 21:14:58  246   \n",
       "244125       OffersScreenAppear  5746969938801999050 2019-08-07 21:15:17  246   \n",
       "\n",
       "              date  \n",
       "0       2019-07-25  \n",
       "1       2019-07-25  \n",
       "2       2019-07-25  \n",
       "3       2019-07-25  \n",
       "4       2019-07-25  \n",
       "...            ...  \n",
       "244121  2019-08-07  \n",
       "244122  2019-08-07  \n",
       "244123  2019-08-07  \n",
       "244124  2019-08-07  \n",
       "244125  2019-08-07  \n",
       "\n",
       "[244126 rows x 5 columns]"
      ]
     },
     "execution_count": 9,
     "metadata": {},
     "output_type": "execute_result"
    }
   ],
   "source": [
    "df"
   ]
  },
  {
   "cell_type": "code",
   "execution_count": 10,
   "metadata": {},
   "outputs": [
    {
     "data": {
      "text/plain": [
       "244126"
      ]
     },
     "execution_count": 10,
     "metadata": {},
     "output_type": "execute_result"
    }
   ],
   "source": [
    "len(df['event'])"
   ]
  },
  {
   "cell_type": "markdown",
   "metadata": {},
   "source": [
    "Всего 243713 событий "
   ]
  },
  {
   "cell_type": "code",
   "execution_count": 11,
   "metadata": {},
   "outputs": [
    {
     "data": {
      "text/plain": [
       "7551"
      ]
     },
     "execution_count": 11,
     "metadata": {},
     "output_type": "execute_result"
    }
   ],
   "source": [
    "df['user_id'].nunique() # В логе 7551 пользователей"
   ]
  },
  {
   "cell_type": "code",
   "execution_count": 12,
   "metadata": {},
   "outputs": [
    {
     "data": {
      "text/plain": [
       "32"
      ]
     },
     "execution_count": 12,
     "metadata": {},
     "output_type": "execute_result"
    }
   ],
   "source": [
    "pp= round(len(df['event'])/df['user_id'].nunique())\n",
    "pp\n"
   ]
  },
  {
   "cell_type": "markdown",
   "metadata": {},
   "source": [
    "В среднем на пользователя приходится 32 события"
   ]
  },
  {
   "cell_type": "markdown",
   "metadata": {},
   "source": [
    "Данными за какой период вы располагаете? Найдите максимальную и минимальную дату. Изучите, как меняется количество данных: постройте столбчатую диаграмму, которая отобразит количество событий в зависимости от времени в разрезе групп. Можно ли быть уверенным, что у вас одинаково полные данные за весь период? Технически в логи новых дней по некоторым пользователям могут «доезжать» события из прошлого — это может «перекашивать данные». Определите, с какого момента данные полные и отбросьте более старые. Данными за какой период времени вы располагаете на самом деле?"
   ]
  },
  {
   "cell_type": "code",
   "execution_count": 13,
   "metadata": {},
   "outputs": [
    {
     "data": {
      "text/plain": [
       "datetime.date(2019, 7, 25)"
      ]
     },
     "execution_count": 13,
     "metadata": {},
     "output_type": "execute_result"
    }
   ],
   "source": [
    "min(df['date']) #минимальная дата "
   ]
  },
  {
   "cell_type": "code",
   "execution_count": 14,
   "metadata": {},
   "outputs": [
    {
     "data": {
      "text/plain": [
       "datetime.date(2019, 8, 7)"
      ]
     },
     "execution_count": 14,
     "metadata": {},
     "output_type": "execute_result"
    }
   ],
   "source": [
    "max(df['date']) #максимальная дата"
   ]
  },
  {
   "cell_type": "markdown",
   "metadata": {},
   "source": [
    "Построим столбчатую диаграмму, которая отобразит количество событий в зависимости от времени."
   ]
  },
  {
   "cell_type": "code",
   "execution_count": 15,
   "metadata": {},
   "outputs": [
    {
     "data": {
      "image/png": "[encoded data removed]",
      "text/plain": [
       "<Figure size 1080x576 with 1 Axes>"
      ]
     },
     "metadata": {
      "needs_background": "light"
     },
     "output_type": "display_data"
    }
   ],
   "source": [
    "plt.figure(figsize=(15,8)) \n",
    "df['date'].hist()\n",
    "plt.title('Диограмма по дате')\n",
    "plt.xlabel(\"Дата\")\n",
    "plt.xticks(rotation=30) \n",
    "plt.show()"
   ]
  },
  {
   "cell_type": "markdown",
   "metadata": {},
   "source": [
    "Данные ранее 1 августа отсутствуют. Посмотрим столбчатую диаграмму от 1 августа."
   ]
  },
  {
   "cell_type": "code",
   "execution_count": 16,
   "metadata": {},
   "outputs": [
    {
     "data": {
      "image/png": "[encoded data removed]",
      "text/plain": [
       "<Figure size 432x288 with 1 Axes>"
      ]
     },
     "metadata": {
      "needs_background": "light"
     },
     "output_type": "display_data"
    }
   ],
   "source": [
    "df['date']= pd.to_datetime(df['date'])\n",
    "new_df= df.query('date>\"2019-07-31\"')\n",
    "new_df['date'].hist(bins=7)\n",
    "plt.title('Диограма по дате')\n",
    "plt.xlabel(\"Дата\")\n",
    "plt.xticks(rotation=30) \n",
    "plt.show()"
   ]
  },
  {
   "cell_type": "code",
   "execution_count": 17,
   "metadata": {},
   "outputs": [
    {
     "name": "stdout",
     "output_type": "stream",
     "text": [
      "Было потеряно 2828 событий\n"
     ]
    }
   ],
   "source": [
    "old_df= df.query('date<=\"2019-07-31\"')\n",
    "print('Было потеряно', len(old_df), 'событий')"
   ]
  },
  {
   "cell_type": "code",
   "execution_count": 18,
   "metadata": {},
   "outputs": [
    {
     "name": "stdout",
     "output_type": "stream",
     "text": [
      "Потеряно 5 устройств\n"
     ]
    },
    {
     "name": "stderr",
     "output_type": "stream",
     "text": [
      "/tmp/ipykernel_108/2200404398.py:3: FutureWarning: elementwise comparison failed; returning scalar instead, but in the future will perform elementwise comparison\n",
      "  if i not in old_df['user_id'].unique():\n"
     ]
    }
   ],
   "source": [
    "t=0\n",
    "for i in new_df:\n",
    "    if i not in old_df['user_id'].unique():\n",
    "        t+=1\n",
    "print('Потеряно', t, 'устройств')"
   ]
  },
  {
   "cell_type": "markdown",
   "metadata": {},
   "source": [
    "Абсолютные потери: 2826 событий и 5 пользователей."
   ]
  },
  {
   "cell_type": "code",
   "execution_count": 20,
   "metadata": {},
   "outputs": [
    {
     "name": "stdout",
     "output_type": "stream",
     "text": [
      "Было потеряно 1.2 % событий\n"
     ]
    }
   ],
   "source": [
    "print(\"Было потеряно\",round(len(old_df)/len(df)*100,1), '% событий')"
   ]
  },
  {
   "cell_type": "code",
   "execution_count": 21,
   "metadata": {},
   "outputs": [
    {
     "name": "stdout",
     "output_type": "stream",
     "text": [
      "Было потеряно 0.1 % устройств\n"
     ]
    }
   ],
   "source": [
    "print(\"Было потеряно\",round(t/df['user_id'].nunique()*100,1), '% устройств')"
   ]
  },
  {
   "cell_type": "markdown",
   "metadata": {},
   "source": [
    "Было потеряно 2826 событий и 5 пользователей или 1.2 % событий и  0.1 % пользователей. Это немного, их можно удалить."
   ]
  },
  {
   "cell_type": "code",
   "execution_count": 22,
   "metadata": {},
   "outputs": [
    {
     "data": {
      "text/html": [
       "<div>\n",
       "<style scoped>\n",
       "    .dataframe tbody tr th:only-of-type {\n",
       "        vertical-align: middle;\n",
       "    }\n",
       "\n",
       "    .dataframe tbody tr th {\n",
       "        vertical-align: top;\n",
       "    }\n",
       "\n",
       "    .dataframe thead th {\n",
       "        text-align: right;\n",
       "    }\n",
       "</style>\n",
       "<table border=\"1\" class=\"dataframe\">\n",
       "  <thead>\n",
       "    <tr style=\"text-align: right;\">\n",
       "      <th></th>\n",
       "      <th>event</th>\n",
       "      <th>user_id</th>\n",
       "      <th>event_time</th>\n",
       "      <th>gr</th>\n",
       "      <th>date</th>\n",
       "    </tr>\n",
       "  </thead>\n",
       "  <tbody>\n",
       "    <tr>\n",
       "      <th>2828</th>\n",
       "      <td>Tutorial</td>\n",
       "      <td>3737462046622621720</td>\n",
       "      <td>2019-08-01 00:07:28</td>\n",
       "      <td>246</td>\n",
       "      <td>2019-08-01</td>\n",
       "    </tr>\n",
       "    <tr>\n",
       "      <th>2829</th>\n",
       "      <td>MainScreenAppear</td>\n",
       "      <td>3737462046622621720</td>\n",
       "      <td>2019-08-01 00:08:00</td>\n",
       "      <td>246</td>\n",
       "      <td>2019-08-01</td>\n",
       "    </tr>\n",
       "    <tr>\n",
       "      <th>2830</th>\n",
       "      <td>MainScreenAppear</td>\n",
       "      <td>3737462046622621720</td>\n",
       "      <td>2019-08-01 00:08:55</td>\n",
       "      <td>246</td>\n",
       "      <td>2019-08-01</td>\n",
       "    </tr>\n",
       "    <tr>\n",
       "      <th>2831</th>\n",
       "      <td>OffersScreenAppear</td>\n",
       "      <td>3737462046622621720</td>\n",
       "      <td>2019-08-01 00:08:58</td>\n",
       "      <td>246</td>\n",
       "      <td>2019-08-01</td>\n",
       "    </tr>\n",
       "    <tr>\n",
       "      <th>2832</th>\n",
       "      <td>MainScreenAppear</td>\n",
       "      <td>1433840883824088890</td>\n",
       "      <td>2019-08-01 00:08:59</td>\n",
       "      <td>247</td>\n",
       "      <td>2019-08-01</td>\n",
       "    </tr>\n",
       "    <tr>\n",
       "      <th>...</th>\n",
       "      <td>...</td>\n",
       "      <td>...</td>\n",
       "      <td>...</td>\n",
       "      <td>...</td>\n",
       "      <td>...</td>\n",
       "    </tr>\n",
       "    <tr>\n",
       "      <th>244121</th>\n",
       "      <td>MainScreenAppear</td>\n",
       "      <td>4599628364049201812</td>\n",
       "      <td>2019-08-07 21:12:25</td>\n",
       "      <td>247</td>\n",
       "      <td>2019-08-07</td>\n",
       "    </tr>\n",
       "    <tr>\n",
       "      <th>244122</th>\n",
       "      <td>MainScreenAppear</td>\n",
       "      <td>5849806612437486590</td>\n",
       "      <td>2019-08-07 21:13:59</td>\n",
       "      <td>246</td>\n",
       "      <td>2019-08-07</td>\n",
       "    </tr>\n",
       "    <tr>\n",
       "      <th>244123</th>\n",
       "      <td>MainScreenAppear</td>\n",
       "      <td>5746969938801999050</td>\n",
       "      <td>2019-08-07 21:14:43</td>\n",
       "      <td>246</td>\n",
       "      <td>2019-08-07</td>\n",
       "    </tr>\n",
       "    <tr>\n",
       "      <th>244124</th>\n",
       "      <td>MainScreenAppear</td>\n",
       "      <td>5746969938801999050</td>\n",
       "      <td>2019-08-07 21:14:58</td>\n",
       "      <td>246</td>\n",
       "      <td>2019-08-07</td>\n",
       "    </tr>\n",
       "    <tr>\n",
       "      <th>244125</th>\n",
       "      <td>OffersScreenAppear</td>\n",
       "      <td>5746969938801999050</td>\n",
       "      <td>2019-08-07 21:15:17</td>\n",
       "      <td>246</td>\n",
       "      <td>2019-08-07</td>\n",
       "    </tr>\n",
       "  </tbody>\n",
       "</table>\n",
       "<p>241298 rows × 5 columns</p>\n",
       "</div>"
      ],
      "text/plain": [
       "                     event              user_id          event_time   gr  \\\n",
       "2828              Tutorial  3737462046622621720 2019-08-01 00:07:28  246   \n",
       "2829      MainScreenAppear  3737462046622621720 2019-08-01 00:08:00  246   \n",
       "2830      MainScreenAppear  3737462046622621720 2019-08-01 00:08:55  246   \n",
       "2831    OffersScreenAppear  3737462046622621720 2019-08-01 00:08:58  246   \n",
       "2832      MainScreenAppear  1433840883824088890 2019-08-01 00:08:59  247   \n",
       "...                    ...                  ...                 ...  ...   \n",
       "244121    MainScreenAppear  4599628364049201812 2019-08-07 21:12:25  247   \n",
       "244122    MainScreenAppear  5849806612437486590 2019-08-07 21:13:59  246   \n",
       "244123    MainScreenAppear  5746969938801999050 2019-08-07 21:14:43  246   \n",
       "244124    MainScreenAppear  5746969938801999050 2019-08-07 21:14:58  246   \n",
       "244125  OffersScreenAppear  5746969938801999050 2019-08-07 21:15:17  246   \n",
       "\n",
       "             date  \n",
       "2828   2019-08-01  \n",
       "2829   2019-08-01  \n",
       "2830   2019-08-01  \n",
       "2831   2019-08-01  \n",
       "2832   2019-08-01  \n",
       "...           ...  \n",
       "244121 2019-08-07  \n",
       "244122 2019-08-07  \n",
       "244123 2019-08-07  \n",
       "244124 2019-08-07  \n",
       "244125 2019-08-07  \n",
       "\n",
       "[241298 rows x 5 columns]"
      ]
     },
     "execution_count": 22,
     "metadata": {},
     "output_type": "execute_result"
    }
   ],
   "source": [
    "new_df"
   ]
  },
  {
   "cell_type": "markdown",
   "metadata": {},
   "source": [
    "Проверим, есть ли пользователи во всех трёх экспериментальных групп."
   ]
  },
  {
   "cell_type": "code",
   "execution_count": 23,
   "metadata": {},
   "outputs": [
    {
     "data": {
      "text/plain": [
       "248    84726\n",
       "246    79425\n",
       "247    77147\n",
       "Name: gr, dtype: int64"
      ]
     },
     "execution_count": 23,
     "metadata": {},
     "output_type": "execute_result"
    }
   ],
   "source": [
    "new_df['gr'].value_counts()"
   ]
  },
  {
   "cell_type": "markdown",
   "metadata": {},
   "source": [
    "В каждой группе 70-80 тысяч человек."
   ]
  },
  {
   "cell_type": "markdown",
   "metadata": {},
   "source": [
    "# Шаг 4. Изучите воронку событий"
   ]
  },
  {
   "cell_type": "code",
   "execution_count": 24,
   "metadata": {},
   "outputs": [
    {
     "data": {
      "text/plain": [
       "MainScreenAppear           117431\n",
       "OffersScreenAppear          46350\n",
       "CartScreenAppear            42365\n",
       "PaymentScreenSuccessful     34113\n",
       "Tutorial                     1039\n",
       "Name: event, dtype: int64"
      ]
     },
     "execution_count": 24,
     "metadata": {},
     "output_type": "execute_result"
    }
   ],
   "source": [
    "new_df['event'].value_counts()"
   ]
  },
  {
   "cell_type": "markdown",
   "metadata": {},
   "source": [
    "В логах есть 5 видов событий. Самое частое событие - MainScreenAppear( появление главного экрана), затем по популярности идут OffersScreenAppear(появление предложения о товаре), CartScreenAppear (переход к корзине) и PaymentScreenSuccessful( экран оплаты). Самое редкое событие - это Tutorial."
   ]
  },
  {
   "cell_type": "markdown",
   "metadata": {},
   "source": [
    "Посчитаем, сколько пользователей совершали каждое из этих событий. Отсортируйте события по числу пользователей. Посчитайте долю пользователей, которые хоть раз совершали событие."
   ]
  },
  {
   "cell_type": "code",
   "execution_count": 25,
   "metadata": {},
   "outputs": [],
   "source": [
    "ev=new_df.pivot_table(index='event', values='user_id', aggfunc='nunique').sort_values('user_id',ascending=False)"
   ]
  },
  {
   "cell_type": "code",
   "execution_count": 26,
   "metadata": {},
   "outputs": [],
   "source": [
    "ev['percent']=(ev['user_id']/len(new_df['user_id'].unique()))*100\n"
   ]
  },
  {
   "cell_type": "code",
   "execution_count": 27,
   "metadata": {
    "scrolled": true
   },
   "outputs": [
    {
     "data": {
      "text/html": [
       "<div>\n",
       "<style scoped>\n",
       "    .dataframe tbody tr th:only-of-type {\n",
       "        vertical-align: middle;\n",
       "    }\n",
       "\n",
       "    .dataframe tbody tr th {\n",
       "        vertical-align: top;\n",
       "    }\n",
       "\n",
       "    .dataframe thead th {\n",
       "        text-align: right;\n",
       "    }\n",
       "</style>\n",
       "<table border=\"1\" class=\"dataframe\">\n",
       "  <thead>\n",
       "    <tr style=\"text-align: right;\">\n",
       "      <th></th>\n",
       "      <th>user_id</th>\n",
       "      <th>percent</th>\n",
       "    </tr>\n",
       "    <tr>\n",
       "      <th>event</th>\n",
       "      <th></th>\n",
       "      <th></th>\n",
       "    </tr>\n",
       "  </thead>\n",
       "  <tbody>\n",
       "    <tr>\n",
       "      <th>MainScreenAppear</th>\n",
       "      <td>7419</td>\n",
       "      <td>98.473586</td>\n",
       "    </tr>\n",
       "    <tr>\n",
       "      <th>OffersScreenAppear</th>\n",
       "      <td>4593</td>\n",
       "      <td>60.963632</td>\n",
       "    </tr>\n",
       "    <tr>\n",
       "      <th>CartScreenAppear</th>\n",
       "      <td>3734</td>\n",
       "      <td>49.561986</td>\n",
       "    </tr>\n",
       "    <tr>\n",
       "      <th>PaymentScreenSuccessful</th>\n",
       "      <td>3539</td>\n",
       "      <td>46.973719</td>\n",
       "    </tr>\n",
       "    <tr>\n",
       "      <th>Tutorial</th>\n",
       "      <td>840</td>\n",
       "      <td>11.149456</td>\n",
       "    </tr>\n",
       "  </tbody>\n",
       "</table>\n",
       "</div>"
      ],
      "text/plain": [
       "                         user_id    percent\n",
       "event                                      \n",
       "MainScreenAppear            7419  98.473586\n",
       "OffersScreenAppear          4593  60.963632\n",
       "CartScreenAppear            3734  49.561986\n",
       "PaymentScreenSuccessful     3539  46.973719\n",
       "Tutorial                     840  11.149456"
      ]
     },
     "execution_count": 27,
     "metadata": {},
     "output_type": "execute_result"
    }
   ],
   "source": [
    "ev"
   ]
  },
  {
   "cell_type": "code",
   "execution_count": 28,
   "metadata": {},
   "outputs": [
    {
     "data": {
      "text/plain": [
       "Text(0.5, 1.0, 'Соотношение событий по количеству пользователей')"
      ]
     },
     "execution_count": 28,
     "metadata": {},
     "output_type": "execute_result"
    },
    {
     "data": {
      "image/png": "[encoded data removed]",
      "text/plain": [
       "<Figure size 864x864 with 1 Axes>"
      ]
     },
     "metadata": {},
     "output_type": "display_data"
    }
   ],
   "source": [
    "# Построим диаграмму\n",
    "ev.plot( y='percent', kind = 'pie', autopct='%1.1f%%', figsize=(12, 12))\n",
    "plt.title('Соотношение событий по количеству пользователей')"
   ]
  },
  {
   "cell_type": "markdown",
   "metadata": {},
   "source": [
    "Построим столбчатую диаграмму воронки."
   ]
  },
  {
   "cell_type": "code",
   "execution_count": 29,
   "metadata": {
    "scrolled": true
   },
   "outputs": [
    {
     "data": {
      "text/plain": [
       "Text(0.5, 1.0, 'Соотношение событий по количеству пользователей')"
      ]
     },
     "execution_count": 29,
     "metadata": {},
     "output_type": "execute_result"
    },
    {
     "data": {
      "image/png": "[encoded data removed]",
      "text/plain": [
       "<Figure size 864x864 with 1 Axes>"
      ]
     },
     "metadata": {
      "needs_background": "light"
     },
     "output_type": "display_data"
    }
   ],
   "source": [
    "ev.plot( y='percent', kind = 'bar', figsize=(12, 12))\n",
    "plt.title('Соотношение событий по количеству пользователей')"
   ]
  },
  {
   "cell_type": "markdown",
   "metadata": {},
   "source": [
    "Tutorial - наиболее редкое событие. Его можно удалить из набора данных."
   ]
  },
  {
   "cell_type": "code",
   "execution_count": 30,
   "metadata": {},
   "outputs": [
    {
     "data": {
      "text/html": [
       "<div>\n",
       "<style scoped>\n",
       "    .dataframe tbody tr th:only-of-type {\n",
       "        vertical-align: middle;\n",
       "    }\n",
       "\n",
       "    .dataframe tbody tr th {\n",
       "        vertical-align: top;\n",
       "    }\n",
       "\n",
       "    .dataframe thead th {\n",
       "        text-align: right;\n",
       "    }\n",
       "</style>\n",
       "<table border=\"1\" class=\"dataframe\">\n",
       "  <thead>\n",
       "    <tr style=\"text-align: right;\">\n",
       "      <th></th>\n",
       "      <th>user_id</th>\n",
       "      <th>percent</th>\n",
       "    </tr>\n",
       "    <tr>\n",
       "      <th>event</th>\n",
       "      <th></th>\n",
       "      <th></th>\n",
       "    </tr>\n",
       "  </thead>\n",
       "  <tbody>\n",
       "    <tr>\n",
       "      <th>MainScreenAppear</th>\n",
       "      <td>7419</td>\n",
       "      <td>98.473586</td>\n",
       "    </tr>\n",
       "    <tr>\n",
       "      <th>OffersScreenAppear</th>\n",
       "      <td>4593</td>\n",
       "      <td>60.963632</td>\n",
       "    </tr>\n",
       "    <tr>\n",
       "      <th>CartScreenAppear</th>\n",
       "      <td>3734</td>\n",
       "      <td>49.561986</td>\n",
       "    </tr>\n",
       "    <tr>\n",
       "      <th>PaymentScreenSuccessful</th>\n",
       "      <td>3539</td>\n",
       "      <td>46.973719</td>\n",
       "    </tr>\n",
       "  </tbody>\n",
       "</table>\n",
       "</div>"
      ],
      "text/plain": [
       "                         user_id    percent\n",
       "event                                      \n",
       "MainScreenAppear            7419  98.473586\n",
       "OffersScreenAppear          4593  60.963632\n",
       "CartScreenAppear            3734  49.561986\n",
       "PaymentScreenSuccessful     3539  46.973719"
      ]
     },
     "execution_count": 30,
     "metadata": {},
     "output_type": "execute_result"
    }
   ],
   "source": [
    "ev=ev.query('event!=\"Tutorial\"')\n",
    "ev"
   ]
  },
  {
   "cell_type": "markdown",
   "metadata": {},
   "source": [
    "MainScreenAppear(появление главного экрана) - самое популярное событие, за ним идут OffersScreenAppear(предложение о товаре), CartScreenAppear(переход к корзине) и PaymentScreenSuccessful(экран с оплатой). "
   ]
  },
  {
   "cell_type": "markdown",
   "metadata": {},
   "source": [
    "Посчитаем, какая доля пользователей проходит на следующий шаг воронки (от числа пользователей на предыдущем). "
   ]
  },
  {
   "cell_type": "code",
   "execution_count": 31,
   "metadata": {},
   "outputs": [
    {
     "name": "stderr",
     "output_type": "stream",
     "text": [
      "/tmp/ipykernel_108/1327005097.py:2: SettingWithCopyWarning: \n",
      "A value is trying to be set on a copy of a slice from a DataFrame.\n",
      "Try using .loc[row_indexer,col_indexer] = value instead\n",
      "\n",
      "See the caveats in the documentation: https://pandas.pydata.org/pandas-docs/stable/user_guide/indexing.html#returning-a-view-versus-a-copy\n",
      "  ev['shift']= ev['user_id'].shift()\n"
     ]
    }
   ],
   "source": [
    "#сделаем это с помощью shift.\n",
    "ev['shift']= ev['user_id'].shift()\n"
   ]
  },
  {
   "cell_type": "code",
   "execution_count": 32,
   "metadata": {},
   "outputs": [
    {
     "data": {
      "text/html": [
       "<div>\n",
       "<style scoped>\n",
       "    .dataframe tbody tr th:only-of-type {\n",
       "        vertical-align: middle;\n",
       "    }\n",
       "\n",
       "    .dataframe tbody tr th {\n",
       "        vertical-align: top;\n",
       "    }\n",
       "\n",
       "    .dataframe thead th {\n",
       "        text-align: right;\n",
       "    }\n",
       "</style>\n",
       "<table border=\"1\" class=\"dataframe\">\n",
       "  <thead>\n",
       "    <tr style=\"text-align: right;\">\n",
       "      <th></th>\n",
       "      <th>user_id</th>\n",
       "      <th>percent</th>\n",
       "      <th>shift</th>\n",
       "    </tr>\n",
       "    <tr>\n",
       "      <th>event</th>\n",
       "      <th></th>\n",
       "      <th></th>\n",
       "      <th></th>\n",
       "    </tr>\n",
       "  </thead>\n",
       "  <tbody>\n",
       "    <tr>\n",
       "      <th>MainScreenAppear</th>\n",
       "      <td>7419</td>\n",
       "      <td>98.473586</td>\n",
       "      <td>NaN</td>\n",
       "    </tr>\n",
       "    <tr>\n",
       "      <th>OffersScreenAppear</th>\n",
       "      <td>4593</td>\n",
       "      <td>60.963632</td>\n",
       "      <td>7419.0</td>\n",
       "    </tr>\n",
       "    <tr>\n",
       "      <th>CartScreenAppear</th>\n",
       "      <td>3734</td>\n",
       "      <td>49.561986</td>\n",
       "      <td>4593.0</td>\n",
       "    </tr>\n",
       "    <tr>\n",
       "      <th>PaymentScreenSuccessful</th>\n",
       "      <td>3539</td>\n",
       "      <td>46.973719</td>\n",
       "      <td>3734.0</td>\n",
       "    </tr>\n",
       "  </tbody>\n",
       "</table>\n",
       "</div>"
      ],
      "text/plain": [
       "                         user_id    percent   shift\n",
       "event                                              \n",
       "MainScreenAppear            7419  98.473586     NaN\n",
       "OffersScreenAppear          4593  60.963632  7419.0\n",
       "CartScreenAppear            3734  49.561986  4593.0\n",
       "PaymentScreenSuccessful     3539  46.973719  3734.0"
      ]
     },
     "execution_count": 32,
     "metadata": {},
     "output_type": "execute_result"
    }
   ],
   "source": [
    "ev"
   ]
  },
  {
   "cell_type": "code",
   "execution_count": 33,
   "metadata": {},
   "outputs": [
    {
     "name": "stderr",
     "output_type": "stream",
     "text": [
      "/tmp/ipykernel_108/427388514.py:1: SettingWithCopyWarning: \n",
      "A value is trying to be set on a copy of a slice from a DataFrame.\n",
      "Try using .loc[row_indexer,col_indexer] = value instead\n",
      "\n",
      "See the caveats in the documentation: https://pandas.pydata.org/pandas-docs/stable/user_guide/indexing.html#returning-a-view-versus-a-copy\n",
      "  ev['conversion']= round(ev['user_id']/ev['shift']*100,1) # конверсия со сдвигом\n"
     ]
    }
   ],
   "source": [
    "ev['conversion']= round(ev['user_id']/ev['shift']*100,1) # конверсия со сдвигом"
   ]
  },
  {
   "cell_type": "code",
   "execution_count": 34,
   "metadata": {},
   "outputs": [
    {
     "name": "stderr",
     "output_type": "stream",
     "text": [
      "/opt/conda/lib/python3.9/site-packages/pandas/core/frame.py:4308: SettingWithCopyWarning: \n",
      "A value is trying to be set on a copy of a slice from a DataFrame\n",
      "\n",
      "See the caveats in the documentation: https://pandas.pydata.org/pandas-docs/stable/user_guide/indexing.html#returning-a-view-versus-a-copy\n",
      "  return super().drop(\n"
     ]
    }
   ],
   "source": [
    "ev.drop(columns = 'shift', axis=1, inplace = True)#удаляем столбец"
   ]
  },
  {
   "cell_type": "code",
   "execution_count": 35,
   "metadata": {},
   "outputs": [
    {
     "data": {
      "text/html": [
       "<div>\n",
       "<style scoped>\n",
       "    .dataframe tbody tr th:only-of-type {\n",
       "        vertical-align: middle;\n",
       "    }\n",
       "\n",
       "    .dataframe tbody tr th {\n",
       "        vertical-align: top;\n",
       "    }\n",
       "\n",
       "    .dataframe thead th {\n",
       "        text-align: right;\n",
       "    }\n",
       "</style>\n",
       "<table border=\"1\" class=\"dataframe\">\n",
       "  <thead>\n",
       "    <tr style=\"text-align: right;\">\n",
       "      <th></th>\n",
       "      <th>user_id</th>\n",
       "      <th>percent</th>\n",
       "      <th>conversion</th>\n",
       "    </tr>\n",
       "    <tr>\n",
       "      <th>event</th>\n",
       "      <th></th>\n",
       "      <th></th>\n",
       "      <th></th>\n",
       "    </tr>\n",
       "  </thead>\n",
       "  <tbody>\n",
       "    <tr>\n",
       "      <th>MainScreenAppear</th>\n",
       "      <td>7419</td>\n",
       "      <td>98.473586</td>\n",
       "      <td>NaN</td>\n",
       "    </tr>\n",
       "    <tr>\n",
       "      <th>OffersScreenAppear</th>\n",
       "      <td>4593</td>\n",
       "      <td>60.963632</td>\n",
       "      <td>61.9</td>\n",
       "    </tr>\n",
       "    <tr>\n",
       "      <th>CartScreenAppear</th>\n",
       "      <td>3734</td>\n",
       "      <td>49.561986</td>\n",
       "      <td>81.3</td>\n",
       "    </tr>\n",
       "    <tr>\n",
       "      <th>PaymentScreenSuccessful</th>\n",
       "      <td>3539</td>\n",
       "      <td>46.973719</td>\n",
       "      <td>94.8</td>\n",
       "    </tr>\n",
       "  </tbody>\n",
       "</table>\n",
       "</div>"
      ],
      "text/plain": [
       "                         user_id    percent  conversion\n",
       "event                                                  \n",
       "MainScreenAppear            7419  98.473586         NaN\n",
       "OffersScreenAppear          4593  60.963632        61.9\n",
       "CartScreenAppear            3734  49.561986        81.3\n",
       "PaymentScreenSuccessful     3539  46.973719        94.8"
      ]
     },
     "execution_count": 35,
     "metadata": {},
     "output_type": "execute_result"
    }
   ],
   "source": [
    "ev"
   ]
  },
  {
   "cell_type": "markdown",
   "metadata": {},
   "source": [
    "До успешной оплаты доходят только 46% пользователей. Возможно, причина в экране, показывающем предложение. Возможно, имеют место проблемы с UX-дизайном, его нужно доработать."
   ]
  },
  {
   "cell_type": "markdown",
   "metadata": {},
   "source": [
    "Построила стобчатую диаграмму."
   ]
  },
  {
   "cell_type": "markdown",
   "metadata": {},
   "source": [
    "# Шаг 5. Изучите результаты эксперимента"
   ]
  },
  {
   "cell_type": "code",
   "execution_count": 36,
   "metadata": {},
   "outputs": [
    {
     "data": {
      "text/html": [
       "<div>\n",
       "<style scoped>\n",
       "    .dataframe tbody tr th:only-of-type {\n",
       "        vertical-align: middle;\n",
       "    }\n",
       "\n",
       "    .dataframe tbody tr th {\n",
       "        vertical-align: top;\n",
       "    }\n",
       "\n",
       "    .dataframe thead th {\n",
       "        text-align: right;\n",
       "    }\n",
       "</style>\n",
       "<table border=\"1\" class=\"dataframe\">\n",
       "  <thead>\n",
       "    <tr style=\"text-align: right;\">\n",
       "      <th></th>\n",
       "      <th>user_id</th>\n",
       "    </tr>\n",
       "    <tr>\n",
       "      <th>gr</th>\n",
       "      <th></th>\n",
       "    </tr>\n",
       "  </thead>\n",
       "  <tbody>\n",
       "    <tr>\n",
       "      <th>246</th>\n",
       "      <td>2484</td>\n",
       "    </tr>\n",
       "    <tr>\n",
       "      <th>247</th>\n",
       "      <td>2513</td>\n",
       "    </tr>\n",
       "    <tr>\n",
       "      <th>248</th>\n",
       "      <td>2537</td>\n",
       "    </tr>\n",
       "  </tbody>\n",
       "</table>\n",
       "</div>"
      ],
      "text/plain": [
       "     user_id\n",
       "gr          \n",
       "246     2484\n",
       "247     2513\n",
       "248     2537"
      ]
     },
     "metadata": {},
     "output_type": "display_data"
    }
   ],
   "source": [
    "#Сделаем таблицу с количествои пользователей в группах\n",
    "data_groups = new_df.pivot_table(index='gr',values='user_id',aggfunc='nunique')\n",
    "display(data_groups)"
   ]
  },
  {
   "cell_type": "markdown",
   "metadata": {},
   "source": [
    "Проверим, принадлежит ли каждый пользователь только одной группе"
   ]
  },
  {
   "cell_type": "code",
   "execution_count": 37,
   "metadata": {},
   "outputs": [],
   "source": [
    "group_1a= new_df.query('gr==\"246\"')['user_id']\n",
    "group_2a= new_df.query('gr==\"247\"')['user_id']\n",
    "group_1b= new_df.query('gr==\"248\"')['user_id']"
   ]
  },
  {
   "cell_type": "code",
   "execution_count": 38,
   "metadata": {},
   "outputs": [
    {
     "data": {
      "text/plain": [
       "0"
      ]
     },
     "metadata": {},
     "output_type": "display_data"
    }
   ],
   "source": [
    "coiaa= group_2a[group_2a.isin(group_1a)]\n",
    "display(coiaa.nunique())"
   ]
  },
  {
   "cell_type": "code",
   "execution_count": 39,
   "metadata": {},
   "outputs": [
    {
     "data": {
      "text/plain": [
       "0"
      ]
     },
     "metadata": {},
     "output_type": "display_data"
    }
   ],
   "source": [
    "coia1b= group_1b[group_1b.isin(group_1a)]\n",
    "display(coia1b.nunique())"
   ]
  },
  {
   "cell_type": "code",
   "execution_count": 40,
   "metadata": {},
   "outputs": [
    {
     "data": {
      "text/plain": [
       "0"
      ]
     },
     "metadata": {},
     "output_type": "display_data"
    }
   ],
   "source": [
    "coia2b= group_1b[group_1b.isin(group_2a)]\n",
    "display(coia2b.nunique())"
   ]
  },
  {
   "cell_type": "markdown",
   "metadata": {},
   "source": [
    "Каждый пользователь принадлежит только одной группе."
   ]
  },
  {
   "cell_type": "code",
   "execution_count": 41,
   "metadata": {},
   "outputs": [
    {
     "data": {
      "text/html": [
       "<div>\n",
       "<style scoped>\n",
       "    .dataframe tbody tr th:only-of-type {\n",
       "        vertical-align: middle;\n",
       "    }\n",
       "\n",
       "    .dataframe tbody tr th {\n",
       "        vertical-align: top;\n",
       "    }\n",
       "\n",
       "    .dataframe thead th {\n",
       "        text-align: right;\n",
       "    }\n",
       "</style>\n",
       "<table border=\"1\" class=\"dataframe\">\n",
       "  <thead>\n",
       "    <tr style=\"text-align: right;\">\n",
       "      <th>event</th>\n",
       "      <th>gr</th>\n",
       "      <th>CartScreenAppear</th>\n",
       "      <th>MainScreenAppear</th>\n",
       "      <th>OffersScreenAppear</th>\n",
       "      <th>PaymentScreenSuccessful</th>\n",
       "      <th>Tutorial</th>\n",
       "    </tr>\n",
       "  </thead>\n",
       "  <tbody>\n",
       "    <tr>\n",
       "      <th>0</th>\n",
       "      <td>246</td>\n",
       "      <td>1266</td>\n",
       "      <td>2450</td>\n",
       "      <td>1542</td>\n",
       "      <td>1200</td>\n",
       "      <td>278</td>\n",
       "    </tr>\n",
       "    <tr>\n",
       "      <th>1</th>\n",
       "      <td>247</td>\n",
       "      <td>1238</td>\n",
       "      <td>2476</td>\n",
       "      <td>1520</td>\n",
       "      <td>1158</td>\n",
       "      <td>283</td>\n",
       "    </tr>\n",
       "    <tr>\n",
       "      <th>2</th>\n",
       "      <td>248</td>\n",
       "      <td>1230</td>\n",
       "      <td>2493</td>\n",
       "      <td>1531</td>\n",
       "      <td>1181</td>\n",
       "      <td>279</td>\n",
       "    </tr>\n",
       "  </tbody>\n",
       "</table>\n",
       "</div>"
      ],
      "text/plain": [
       "event   gr  CartScreenAppear  MainScreenAppear  OffersScreenAppear  \\\n",
       "0      246              1266              2450                1542   \n",
       "1      247              1238              2476                1520   \n",
       "2      248              1230              2493                1531   \n",
       "\n",
       "event  PaymentScreenSuccessful  Tutorial  \n",
       "0                         1200       278  \n",
       "1                         1158       283  \n",
       "2                         1181       279  "
      ]
     },
     "execution_count": 41,
     "metadata": {},
     "output_type": "execute_result"
    }
   ],
   "source": [
    "#Создадим таблицу с информацией для каждой группы\n",
    "user_per_event= new_df.pivot_table(index='gr',columns='event', values= 'user_id', aggfunc= 'nunique').reset_index()\n",
    "user_per_event"
   ]
  },
  {
   "cell_type": "code",
   "execution_count": 42,
   "metadata": {},
   "outputs": [],
   "source": [
    "#добавим количество пользователей в каждой в группе.\n",
    "users_count = new_df.groupby('gr')['user_id'].nunique()"
   ]
  },
  {
   "cell_type": "code",
   "execution_count": 43,
   "metadata": {},
   "outputs": [
    {
     "data": {
      "text/html": [
       "<div>\n",
       "<style scoped>\n",
       "    .dataframe tbody tr th:only-of-type {\n",
       "        vertical-align: middle;\n",
       "    }\n",
       "\n",
       "    .dataframe tbody tr th {\n",
       "        vertical-align: top;\n",
       "    }\n",
       "\n",
       "    .dataframe thead th {\n",
       "        text-align: right;\n",
       "    }\n",
       "</style>\n",
       "<table border=\"1\" class=\"dataframe\">\n",
       "  <thead>\n",
       "    <tr style=\"text-align: right;\">\n",
       "      <th>event</th>\n",
       "      <th>CartScreenAppear</th>\n",
       "      <th>MainScreenAppear</th>\n",
       "      <th>OffersScreenAppear</th>\n",
       "      <th>PaymentScreenSuccessful</th>\n",
       "      <th>Tutorial</th>\n",
       "      <th>users_count</th>\n",
       "    </tr>\n",
       "    <tr>\n",
       "      <th>gr</th>\n",
       "      <th></th>\n",
       "      <th></th>\n",
       "      <th></th>\n",
       "      <th></th>\n",
       "      <th></th>\n",
       "      <th></th>\n",
       "    </tr>\n",
       "  </thead>\n",
       "  <tbody>\n",
       "    <tr>\n",
       "      <th>246</th>\n",
       "      <td>1266</td>\n",
       "      <td>2450</td>\n",
       "      <td>1542</td>\n",
       "      <td>1200</td>\n",
       "      <td>278</td>\n",
       "      <td>2484</td>\n",
       "    </tr>\n",
       "    <tr>\n",
       "      <th>247</th>\n",
       "      <td>1238</td>\n",
       "      <td>2476</td>\n",
       "      <td>1520</td>\n",
       "      <td>1158</td>\n",
       "      <td>283</td>\n",
       "      <td>2513</td>\n",
       "    </tr>\n",
       "    <tr>\n",
       "      <th>248</th>\n",
       "      <td>1230</td>\n",
       "      <td>2493</td>\n",
       "      <td>1531</td>\n",
       "      <td>1181</td>\n",
       "      <td>279</td>\n",
       "      <td>2537</td>\n",
       "    </tr>\n",
       "  </tbody>\n",
       "</table>\n",
       "</div>"
      ],
      "text/plain": [
       "event  CartScreenAppear  MainScreenAppear  OffersScreenAppear  \\\n",
       "gr                                                              \n",
       "246                1266              2450                1542   \n",
       "247                1238              2476                1520   \n",
       "248                1230              2493                1531   \n",
       "\n",
       "event  PaymentScreenSuccessful  Tutorial  users_count  \n",
       "gr                                                     \n",
       "246                       1200       278         2484  \n",
       "247                       1158       283         2513  \n",
       "248                       1181       279         2537  "
      ]
     },
     "execution_count": 43,
     "metadata": {},
     "output_type": "execute_result"
    }
   ],
   "source": [
    "user_per_event['users_count'] = user_per_event['gr'].apply(lambda x: users_count.loc[x])\n",
    "user_per_event = user_per_event.set_index('gr')\n",
    "user_per_event"
   ]
  },
  {
   "cell_type": "code",
   "execution_count": 44,
   "metadata": {},
   "outputs": [
    {
     "data": {
      "text/plain": [
       "1266"
      ]
     },
     "execution_count": 44,
     "metadata": {},
     "output_type": "execute_result"
    }
   ],
   "source": [
    "user_per_event.iloc[0]['CartScreenAppear']"
   ]
  },
  {
   "cell_type": "code",
   "execution_count": 45,
   "metadata": {},
   "outputs": [],
   "source": [
    "# Создадим списки с группой А, А1 и Б.\n",
    "groupA=[ user_per_event.iloc[0][5],user_per_event.iloc[0][0],user_per_event.iloc[0][1],user_per_event.iloc[0][2],user_per_event.iloc[0][3]]"
   ]
  },
  {
   "cell_type": "code",
   "execution_count": 46,
   "metadata": {},
   "outputs": [],
   "source": [
    "#объединенная группа А\n",
    "AA= [user_per_event.iloc[0][5]+user_per_event.iloc[1][5], user_per_event.iloc[0][0]+user_per_event.iloc[1][0],user_per_event.iloc[0][1]+user_per_event.iloc[1][1],user_per_event.iloc[0][2]+user_per_event.iloc[1][2],user_per_event.iloc[0][3]+user_per_event.iloc[1][3]]"
   ]
  },
  {
   "cell_type": "code",
   "execution_count": 47,
   "metadata": {},
   "outputs": [
    {
     "data": {
      "text/plain": [
       "[4997, 2504, 4926, 3062, 2358]"
      ]
     },
     "execution_count": 47,
     "metadata": {},
     "output_type": "execute_result"
    }
   ],
   "source": [
    "AA"
   ]
  },
  {
   "cell_type": "code",
   "execution_count": 48,
   "metadata": {},
   "outputs": [],
   "source": [
    "groupA1=[ user_per_event.iloc[1][5],user_per_event.iloc[1][0],user_per_event.iloc[1][1],user_per_event.iloc[1][2],user_per_event.iloc[1][3]]\n",
    "groupB=[ user_per_event.iloc[2][5],user_per_event.iloc[2][0],user_per_event.iloc[2][1],user_per_event.iloc[2][2],user_per_event.iloc[2][3]]"
   ]
  },
  {
   "cell_type": "markdown",
   "metadata": {},
   "source": [
    "Функция со статистическим тестом."
   ]
  },
  {
   "cell_type": "code",
   "execution_count": 49,
   "metadata": {},
   "outputs": [],
   "source": [
    "def st_test(event, group1, group2):\n",
    "\n",
    "    alpha = .05 # критический уровень статистической значимости\n",
    "\n",
    "    # пропорция успехов в первой группе:\n",
    "    p1 = group1[event]/group1[0]\n",
    "\n",
    "    # пропорция успехов во второй группе:\n",
    "    p2 = group2[event]/group2[0]\n",
    "\n",
    "    # пропорция успехов в комбинированном датасете:\n",
    "    p_combined = (group1[event] + group2[event]) / (group1[0] + group2[0])\n",
    "\n",
    "    # разница пропорций в датасетах\n",
    "    difference = p1 - p2\n",
    "\n",
    "    # считаем статистику в ст.отклонениях стандартного нормального распределения\n",
    "    z_value = difference / mth.sqrt(p_combined * (1 - p_combined) * (1/group1[0] + 1/group2[0]))\n",
    "\n",
    "    # задаем стандартное нормальное распределение (среднее 0, ст.отклонение 1)\n",
    "    distr = st.norm(0, 1) \n",
    "\n",
    "    p_value = (1 - distr.cdf(abs(z_value))) * 2\n",
    "\n",
    "    print('p-значение: ', p_value)\n",
    "\n",
    "    if p_value < alpha:\n",
    "        print('Отвергаем нулевую гипотезу: между долями есть значимая разница')\n",
    "    else:\n",
    "        print(\n",
    "            'Не получилось отвергнуть нулевую гипотезу, нет оснований считать доли разными'\n",
    "        )"
   ]
  },
  {
   "cell_type": "markdown",
   "metadata": {},
   "source": [
    "Проверим, равны ли группы А по каждому из событий."
   ]
  },
  {
   "cell_type": "code",
   "execution_count": 50,
   "metadata": {},
   "outputs": [
    {
     "name": "stdout",
     "output_type": "stream",
     "text": [
      "p-значение:  0.22883372237997213\n",
      "Не получилось отвергнуть нулевую гипотезу, нет оснований считать доли разными\n",
      "p-значение:  0.7570597232046099\n",
      "Не получилось отвергнуть нулевую гипотезу, нет оснований считать доли разными\n",
      "p-значение:  0.2480954578522181\n",
      "Не получилось отвергнуть нулевую гипотезу, нет оснований считать доли разными\n",
      "p-значение:  0.11456679313141849\n",
      "Не получилось отвергнуть нулевую гипотезу, нет оснований считать доли разными\n"
     ]
    }
   ],
   "source": [
    "st_test(1, groupA, groupA1)\n",
    "st_test(2, groupA, groupA1)\n",
    "st_test(3, groupA, groupA1)\n",
    "st_test(4, groupA, groupA1)"
   ]
  },
  {
   "cell_type": "markdown",
   "metadata": {},
   "source": [
    "Статистических различий между двумя группами А не обнаружено. Мы можем сравнить обе группы с группой В. "
   ]
  },
  {
   "cell_type": "code",
   "execution_count": 51,
   "metadata": {},
   "outputs": [
    {
     "name": "stdout",
     "output_type": "stream",
     "text": [
      "p-значение:  0.18175875284404386\n",
      "Не получилось отвергнуть нулевую гипотезу, нет оснований считать доли разными\n",
      "p-значение:  0.29424526837179577\n",
      "Не получилось отвергнуть нулевую гипотезу, нет оснований считать доли разными\n",
      "p-значение:  0.43425549655188256\n",
      "Не получилось отвергнуть нулевую гипотезу, нет оснований считать доли разными\n",
      "p-значение:  0.6004294282308704\n",
      "Не получилось отвергнуть нулевую гипотезу, нет оснований считать доли разными\n"
     ]
    }
   ],
   "source": [
    "# теперь сравним объединенную группу А с группой В.\n",
    "st_test(1, AA, groupB)\n",
    "st_test(2, AA, groupB)\n",
    "st_test(3, AA, groupB)\n",
    "st_test(4, AA, groupB)"
   ]
  },
  {
   "cell_type": "markdown",
   "metadata": {},
   "source": [
    "Сравним группы 246 и 248 по каждому из событий."
   ]
  },
  {
   "cell_type": "code",
   "execution_count": 52,
   "metadata": {},
   "outputs": [
    {
     "name": "stdout",
     "output_type": "stream",
     "text": [
      "p-значение:  0.07842923237520116\n",
      "Не получилось отвергнуть нулевую гипотезу, нет оснований считать доли разными\n",
      "p-значение:  0.2949721933554552\n",
      "Не получилось отвергнуть нулевую гипотезу, нет оснований считать доли разными\n",
      "p-значение:  0.20836205402738917\n",
      "Не получилось отвергнуть нулевую гипотезу, нет оснований считать доли разными\n",
      "p-значение:  0.2122553275697796\n",
      "Не получилось отвергнуть нулевую гипотезу, нет оснований считать доли разными\n"
     ]
    }
   ],
   "source": [
    "st_test(1, groupA, groupB)\n",
    "st_test(2, groupA, groupB)\n",
    "st_test(3, groupA, groupB)\n",
    "st_test(4, groupA, groupB)"
   ]
  },
  {
   "cell_type": "markdown",
   "metadata": {},
   "source": [
    "Сравним группы 247 и 248 по каждому из событий."
   ]
  },
  {
   "cell_type": "code",
   "execution_count": 53,
   "metadata": {
    "scrolled": true
   },
   "outputs": [
    {
     "name": "stdout",
     "output_type": "stream",
     "text": [
      "p-значение:  0.5786197879539783\n",
      "Не получилось отвергнуть нулевую гипотезу, нет оснований считать доли разными\n",
      "p-значение:  0.4587053616621515\n",
      "Не получилось отвергнуть нулевую гипотезу, нет оснований считать доли разными\n",
      "p-значение:  0.9197817830592261\n",
      "Не получилось отвергнуть нулевую гипотезу, нет оснований считать доли разными\n",
      "p-значение:  0.7373415053803964\n",
      "Не получилось отвергнуть нулевую гипотезу, нет оснований считать доли разными\n"
     ]
    }
   ],
   "source": [
    "st_test(1, groupA1, groupB)\n",
    "st_test(2, groupA1, groupB)\n",
    "st_test(3, groupA1, groupB)\n",
    "st_test(4, groupA1, groupB)"
   ]
  },
  {
   "cell_type": "markdown",
   "metadata": {},
   "source": [
    "Мы выбрали 0,05% за уровень статистической значимости. "
   ]
  }
 ],
 "metadata": {
  "ExecuteTimeLog": [
   {
    "duration": 1971,
    "start_time": "2024-02-23T16:17:11.389Z"
   },
   {
    "duration": 338,
    "start_time": "2024-02-23T16:17:43.829Z"
   },
   {
    "duration": 193,
    "start_time": "2024-02-23T16:19:00.667Z"
   },
   {
    "duration": 71,
    "start_time": "2024-02-23T16:20:06.984Z"
   },
   {
    "duration": 93,
    "start_time": "2024-02-23T16:20:37.445Z"
   },
   {
    "duration": 14,
    "start_time": "2024-02-23T16:20:42.875Z"
   },
   {
    "duration": 5,
    "start_time": "2024-02-23T16:22:52.002Z"
   },
   {
    "duration": 5,
    "start_time": "2024-02-23T16:23:37.589Z"
   },
   {
    "duration": 18,
    "start_time": "2024-02-23T16:23:43.049Z"
   },
   {
    "duration": 3,
    "start_time": "2024-02-23T17:00:01.767Z"
   },
   {
    "duration": 3,
    "start_time": "2024-02-23T17:00:06.851Z"
   },
   {
    "duration": 7,
    "start_time": "2024-02-23T17:00:29.280Z"
   },
   {
    "duration": 15,
    "start_time": "2024-02-23T17:05:27.602Z"
   },
   {
    "duration": 61,
    "start_time": "2024-02-23T17:31:05.571Z"
   },
   {
    "duration": 116,
    "start_time": "2024-02-23T17:32:32.255Z"
   },
   {
    "duration": 11,
    "start_time": "2024-02-23T17:32:37.678Z"
   },
   {
    "duration": 44,
    "start_time": "2024-02-24T15:08:30.034Z"
   },
   {
    "duration": 1751,
    "start_time": "2024-02-24T15:08:36.457Z"
   },
   {
    "duration": 78,
    "start_time": "2024-02-24T15:08:38.210Z"
   },
   {
    "duration": 16,
    "start_time": "2024-02-24T15:08:38.290Z"
   },
   {
    "duration": 50,
    "start_time": "2024-02-24T15:08:38.307Z"
   },
   {
    "duration": 11,
    "start_time": "2024-02-24T15:08:38.359Z"
   },
   {
    "duration": 26,
    "start_time": "2024-02-24T15:08:38.372Z"
   },
   {
    "duration": 32,
    "start_time": "2024-02-24T15:08:38.400Z"
   },
   {
    "duration": 123,
    "start_time": "2024-02-24T15:08:38.433Z"
   },
   {
    "duration": 11,
    "start_time": "2024-02-24T15:08:38.558Z"
   },
   {
    "duration": 109,
    "start_time": "2024-02-24T15:08:38.570Z"
   },
   {
    "duration": 10,
    "start_time": "2024-02-24T15:10:41.244Z"
   },
   {
    "duration": 24,
    "start_time": "2024-02-24T15:10:58.819Z"
   },
   {
    "duration": 43,
    "start_time": "2024-02-24T15:11:03.921Z"
   },
   {
    "duration": 5,
    "start_time": "2024-02-24T15:11:39.591Z"
   },
   {
    "duration": 4,
    "start_time": "2024-02-24T15:11:47.301Z"
   },
   {
    "duration": 11,
    "start_time": "2024-02-24T16:18:24.241Z"
   },
   {
    "duration": 49,
    "start_time": "2024-02-24T21:00:46.105Z"
   },
   {
    "duration": 2155,
    "start_time": "2024-02-24T21:00:55.336Z"
   },
   {
    "duration": 86,
    "start_time": "2024-02-24T21:00:57.493Z"
   },
   {
    "duration": 22,
    "start_time": "2024-02-24T21:00:57.580Z"
   },
   {
    "duration": 28,
    "start_time": "2024-02-24T21:00:57.604Z"
   },
   {
    "duration": 4,
    "start_time": "2024-02-24T21:00:57.635Z"
   },
   {
    "duration": 15,
    "start_time": "2024-02-24T21:00:57.641Z"
   },
   {
    "duration": 35,
    "start_time": "2024-02-24T21:00:57.657Z"
   },
   {
    "duration": 119,
    "start_time": "2024-02-24T21:00:57.693Z"
   },
   {
    "duration": 12,
    "start_time": "2024-02-24T21:00:57.813Z"
   },
   {
    "duration": 26,
    "start_time": "2024-02-24T21:00:57.826Z"
   },
   {
    "duration": 18,
    "start_time": "2024-02-24T21:00:57.853Z"
   },
   {
    "duration": 105,
    "start_time": "2024-02-24T21:00:57.872Z"
   },
   {
    "duration": 0,
    "start_time": "2024-02-24T21:00:57.979Z"
   },
   {
    "duration": 8,
    "start_time": "2024-02-24T21:01:10.199Z"
   },
   {
    "duration": 647,
    "start_time": "2024-02-24T21:08:43.884Z"
   },
   {
    "duration": 295,
    "start_time": "2024-02-24T21:09:03.164Z"
   },
   {
    "duration": 368,
    "start_time": "2024-02-24T21:09:03.669Z"
   },
   {
    "duration": 350,
    "start_time": "2024-02-24T21:09:13.380Z"
   },
   {
    "duration": 318,
    "start_time": "2024-02-24T21:09:16.412Z"
   },
   {
    "duration": 22,
    "start_time": "2024-02-24T21:09:47.868Z"
   },
   {
    "duration": 32,
    "start_time": "2024-02-24T21:10:07.087Z"
   },
   {
    "duration": 25,
    "start_time": "2024-02-24T21:10:11.787Z"
   },
   {
    "duration": 93,
    "start_time": "2024-02-24T21:11:38.027Z"
   },
   {
    "duration": 399,
    "start_time": "2024-02-24T21:34:49.213Z"
   },
   {
    "duration": 1425,
    "start_time": "2024-02-24T21:49:07.451Z"
   },
   {
    "duration": 86,
    "start_time": "2024-02-24T21:49:08.878Z"
   },
   {
    "duration": 27,
    "start_time": "2024-02-24T21:49:08.965Z"
   },
   {
    "duration": 50,
    "start_time": "2024-02-24T21:49:08.995Z"
   },
   {
    "duration": 117,
    "start_time": "2024-02-24T21:49:09.046Z"
   },
   {
    "duration": 0,
    "start_time": "2024-02-24T21:49:09.165Z"
   },
   {
    "duration": 0,
    "start_time": "2024-02-24T21:49:09.167Z"
   },
   {
    "duration": 0,
    "start_time": "2024-02-24T21:49:09.168Z"
   },
   {
    "duration": 0,
    "start_time": "2024-02-24T21:49:09.170Z"
   },
   {
    "duration": 0,
    "start_time": "2024-02-24T21:49:09.171Z"
   },
   {
    "duration": 0,
    "start_time": "2024-02-24T21:49:09.173Z"
   },
   {
    "duration": 0,
    "start_time": "2024-02-24T21:49:09.174Z"
   },
   {
    "duration": 0,
    "start_time": "2024-02-24T21:49:09.176Z"
   },
   {
    "duration": 0,
    "start_time": "2024-02-24T21:49:09.177Z"
   },
   {
    "duration": 1409,
    "start_time": "2024-02-24T21:49:25.345Z"
   },
   {
    "duration": 98,
    "start_time": "2024-02-24T21:49:26.756Z"
   },
   {
    "duration": 17,
    "start_time": "2024-02-24T21:49:26.855Z"
   },
   {
    "duration": 73,
    "start_time": "2024-02-24T21:49:26.874Z"
   },
   {
    "duration": 11,
    "start_time": "2024-02-24T21:49:26.949Z"
   },
   {
    "duration": 32,
    "start_time": "2024-02-24T21:49:26.963Z"
   },
   {
    "duration": 28,
    "start_time": "2024-02-24T21:49:26.997Z"
   },
   {
    "duration": 187,
    "start_time": "2024-02-24T21:49:27.026Z"
   },
   {
    "duration": 0,
    "start_time": "2024-02-24T21:49:27.215Z"
   },
   {
    "duration": 0,
    "start_time": "2024-02-24T21:49:27.216Z"
   },
   {
    "duration": 0,
    "start_time": "2024-02-24T21:49:27.218Z"
   },
   {
    "duration": 0,
    "start_time": "2024-02-24T21:49:27.219Z"
   },
   {
    "duration": 0,
    "start_time": "2024-02-24T21:49:27.221Z"
   },
   {
    "duration": 0,
    "start_time": "2024-02-24T21:49:27.222Z"
   },
   {
    "duration": 1803,
    "start_time": "2024-02-24T21:49:42.502Z"
   },
   {
    "duration": 1701,
    "start_time": "2024-02-24T21:49:56.891Z"
   },
   {
    "duration": 82,
    "start_time": "2024-02-24T21:50:07.812Z"
   },
   {
    "duration": 192,
    "start_time": "2024-02-24T21:51:00.997Z"
   },
   {
    "duration": 173,
    "start_time": "2024-02-24T21:51:05.102Z"
   },
   {
    "duration": 166,
    "start_time": "2024-02-24T22:04:11.233Z"
   },
   {
    "duration": 13,
    "start_time": "2024-02-24T22:04:12.616Z"
   },
   {
    "duration": 4,
    "start_time": "2024-02-24T22:04:19.584Z"
   },
   {
    "duration": 8,
    "start_time": "2024-02-24T22:04:22.720Z"
   },
   {
    "duration": 11,
    "start_time": "2024-02-24T22:04:24.744Z"
   },
   {
    "duration": 8,
    "start_time": "2024-02-24T22:04:31.179Z"
   },
   {
    "duration": 7,
    "start_time": "2024-02-24T22:04:33.576Z"
   },
   {
    "duration": 24,
    "start_time": "2024-02-24T22:04:36.304Z"
   },
   {
    "duration": 22,
    "start_time": "2024-02-24T22:04:37.479Z"
   },
   {
    "duration": 380,
    "start_time": "2024-02-24T22:05:40.096Z"
   },
   {
    "duration": 1444,
    "start_time": "2024-02-24T22:08:23.485Z"
   },
   {
    "duration": 93,
    "start_time": "2024-02-24T22:08:24.930Z"
   },
   {
    "duration": 19,
    "start_time": "2024-02-24T22:08:25.024Z"
   },
   {
    "duration": 25,
    "start_time": "2024-02-24T22:08:25.045Z"
   },
   {
    "duration": 19,
    "start_time": "2024-02-24T22:08:25.072Z"
   },
   {
    "duration": 14,
    "start_time": "2024-02-24T22:08:25.093Z"
   },
   {
    "duration": 20,
    "start_time": "2024-02-24T22:08:25.108Z"
   },
   {
    "duration": 165,
    "start_time": "2024-02-24T22:08:25.130Z"
   },
   {
    "duration": 15,
    "start_time": "2024-02-24T22:08:25.297Z"
   },
   {
    "duration": 5,
    "start_time": "2024-02-24T22:08:25.313Z"
   },
   {
    "duration": 21,
    "start_time": "2024-02-24T22:08:25.319Z"
   },
   {
    "duration": 14,
    "start_time": "2024-02-24T22:08:25.342Z"
   },
   {
    "duration": 324,
    "start_time": "2024-02-24T22:08:25.358Z"
   },
   {
    "duration": 385,
    "start_time": "2024-02-24T22:08:25.684Z"
   },
   {
    "duration": 51,
    "start_time": "2024-02-25T13:31:28.602Z"
   },
   {
    "duration": 1908,
    "start_time": "2024-02-25T13:31:36.355Z"
   },
   {
    "duration": 84,
    "start_time": "2024-02-25T13:31:38.265Z"
   },
   {
    "duration": 17,
    "start_time": "2024-02-25T13:31:38.350Z"
   },
   {
    "duration": 27,
    "start_time": "2024-02-25T13:31:38.369Z"
   },
   {
    "duration": 3,
    "start_time": "2024-02-25T13:31:38.398Z"
   },
   {
    "duration": 8,
    "start_time": "2024-02-25T13:31:38.402Z"
   },
   {
    "duration": 19,
    "start_time": "2024-02-25T13:31:38.411Z"
   },
   {
    "duration": 183,
    "start_time": "2024-02-25T13:31:38.431Z"
   },
   {
    "duration": 14,
    "start_time": "2024-02-25T13:31:38.615Z"
   },
   {
    "duration": 4,
    "start_time": "2024-02-25T13:31:38.632Z"
   },
   {
    "duration": 15,
    "start_time": "2024-02-25T13:31:38.637Z"
   },
   {
    "duration": 31,
    "start_time": "2024-02-25T13:31:38.655Z"
   },
   {
    "duration": 303,
    "start_time": "2024-02-25T13:31:38.687Z"
   },
   {
    "duration": 349,
    "start_time": "2024-02-25T13:31:38.992Z"
   },
   {
    "duration": 109,
    "start_time": "2024-02-25T13:31:39.343Z"
   },
   {
    "duration": 11,
    "start_time": "2024-02-25T13:32:08.940Z"
   },
   {
    "duration": 76,
    "start_time": "2024-02-25T13:32:15.757Z"
   },
   {
    "duration": 5,
    "start_time": "2024-02-25T13:34:20.763Z"
   },
   {
    "duration": 535,
    "start_time": "2024-02-25T13:34:25.950Z"
   },
   {
    "duration": 474,
    "start_time": "2024-02-25T13:35:36.610Z"
   },
   {
    "duration": 461,
    "start_time": "2024-02-25T13:35:43.276Z"
   },
   {
    "duration": 470,
    "start_time": "2024-02-25T13:35:52.116Z"
   },
   {
    "duration": 502,
    "start_time": "2024-02-25T13:36:42.080Z"
   },
   {
    "duration": 895,
    "start_time": "2024-02-25T13:44:35.158Z"
   },
   {
    "duration": 21,
    "start_time": "2024-02-25T13:45:37.289Z"
   },
   {
    "duration": 22,
    "start_time": "2024-02-25T13:45:38.555Z"
   },
   {
    "duration": 306,
    "start_time": "2024-02-25T13:45:59.236Z"
   },
   {
    "duration": 350,
    "start_time": "2024-02-25T13:46:13.004Z"
   },
   {
    "duration": 646,
    "start_time": "2024-02-25T14:20:06.994Z"
   },
   {
    "duration": 104,
    "start_time": "2024-02-25T14:21:03.211Z"
   },
   {
    "duration": 499,
    "start_time": "2024-02-25T14:25:42.030Z"
   },
   {
    "duration": 212,
    "start_time": "2024-02-25T14:26:09.751Z"
   },
   {
    "duration": 199,
    "start_time": "2024-02-25T14:27:24.262Z"
   },
   {
    "duration": 7,
    "start_time": "2024-02-25T14:46:39.384Z"
   },
   {
    "duration": 7,
    "start_time": "2024-02-25T14:58:56.197Z"
   },
   {
    "duration": 1142,
    "start_time": "2024-02-25T15:01:23.336Z"
   },
   {
    "duration": 15,
    "start_time": "2024-02-25T15:01:54.464Z"
   },
   {
    "duration": 6,
    "start_time": "2024-02-25T15:02:05.176Z"
   },
   {
    "duration": 1993,
    "start_time": "2024-02-25T17:19:47.588Z"
   },
   {
    "duration": 87,
    "start_time": "2024-02-25T17:19:49.584Z"
   },
   {
    "duration": 17,
    "start_time": "2024-02-25T17:19:49.673Z"
   },
   {
    "duration": 35,
    "start_time": "2024-02-25T17:19:49.692Z"
   },
   {
    "duration": 4,
    "start_time": "2024-02-25T17:19:49.729Z"
   },
   {
    "duration": 13,
    "start_time": "2024-02-25T17:19:49.734Z"
   },
   {
    "duration": 22,
    "start_time": "2024-02-25T17:19:49.748Z"
   },
   {
    "duration": 184,
    "start_time": "2024-02-25T17:19:49.771Z"
   },
   {
    "duration": 14,
    "start_time": "2024-02-25T17:19:49.957Z"
   },
   {
    "duration": 40,
    "start_time": "2024-02-25T17:19:49.974Z"
   },
   {
    "duration": 25,
    "start_time": "2024-02-25T17:19:50.015Z"
   },
   {
    "duration": 11,
    "start_time": "2024-02-25T17:19:50.041Z"
   },
   {
    "duration": 25,
    "start_time": "2024-02-25T17:19:50.053Z"
   },
   {
    "duration": 36,
    "start_time": "2024-02-25T17:19:50.080Z"
   },
   {
    "duration": 606,
    "start_time": "2024-02-25T17:19:50.117Z"
   },
   {
    "duration": 269,
    "start_time": "2024-02-25T17:19:50.725Z"
   },
   {
    "duration": 7,
    "start_time": "2024-02-25T17:19:50.996Z"
   },
   {
    "duration": 26,
    "start_time": "2024-02-25T17:19:51.004Z"
   },
   {
    "duration": 21,
    "start_time": "2024-02-25T17:19:51.031Z"
   },
   {
    "duration": 27,
    "start_time": "2024-02-25T17:22:58.901Z"
   },
   {
    "duration": 1974,
    "start_time": "2024-02-26T12:37:36.601Z"
   },
   {
    "duration": 86,
    "start_time": "2024-02-26T12:37:38.578Z"
   },
   {
    "duration": 17,
    "start_time": "2024-02-26T12:37:38.665Z"
   },
   {
    "duration": 48,
    "start_time": "2024-02-26T12:37:38.685Z"
   },
   {
    "duration": 9,
    "start_time": "2024-02-26T12:37:38.735Z"
   },
   {
    "duration": 27,
    "start_time": "2024-02-26T12:37:38.745Z"
   },
   {
    "duration": 35,
    "start_time": "2024-02-26T12:37:38.774Z"
   },
   {
    "duration": 173,
    "start_time": "2024-02-26T12:37:38.810Z"
   },
   {
    "duration": 13,
    "start_time": "2024-02-26T12:37:38.985Z"
   },
   {
    "duration": 17,
    "start_time": "2024-02-26T12:37:39.000Z"
   },
   {
    "duration": 28,
    "start_time": "2024-02-26T12:37:39.018Z"
   },
   {
    "duration": 17,
    "start_time": "2024-02-26T12:37:39.048Z"
   },
   {
    "duration": 36,
    "start_time": "2024-02-26T12:37:39.066Z"
   },
   {
    "duration": 36,
    "start_time": "2024-02-26T12:37:39.104Z"
   },
   {
    "duration": 563,
    "start_time": "2024-02-26T12:37:39.142Z"
   },
   {
    "duration": 263,
    "start_time": "2024-02-26T12:37:39.706Z"
   },
   {
    "duration": 7,
    "start_time": "2024-02-26T12:37:39.971Z"
   },
   {
    "duration": 35,
    "start_time": "2024-02-26T12:37:39.980Z"
   },
   {
    "duration": 12,
    "start_time": "2024-02-26T12:37:40.016Z"
   },
   {
    "duration": 30,
    "start_time": "2024-02-26T12:37:40.030Z"
   },
   {
    "duration": 53,
    "start_time": "2024-02-26T16:44:39.820Z"
   },
   {
    "duration": 2114,
    "start_time": "2024-02-26T16:44:47.015Z"
   },
   {
    "duration": 83,
    "start_time": "2024-02-26T16:44:49.131Z"
   },
   {
    "duration": 17,
    "start_time": "2024-02-26T16:44:49.215Z"
   },
   {
    "duration": 22,
    "start_time": "2024-02-26T16:44:49.233Z"
   },
   {
    "duration": 3,
    "start_time": "2024-02-26T16:44:49.258Z"
   },
   {
    "duration": 28,
    "start_time": "2024-02-26T16:44:49.262Z"
   },
   {
    "duration": 43,
    "start_time": "2024-02-26T16:44:49.291Z"
   },
   {
    "duration": 165,
    "start_time": "2024-02-26T16:44:49.336Z"
   },
   {
    "duration": 14,
    "start_time": "2024-02-26T16:44:49.503Z"
   },
   {
    "duration": 22,
    "start_time": "2024-02-26T16:44:49.519Z"
   },
   {
    "duration": 41,
    "start_time": "2024-02-26T16:44:49.542Z"
   },
   {
    "duration": 39,
    "start_time": "2024-02-26T16:44:49.585Z"
   },
   {
    "duration": 36,
    "start_time": "2024-02-26T16:44:49.626Z"
   },
   {
    "duration": 37,
    "start_time": "2024-02-26T16:44:49.665Z"
   },
   {
    "duration": 578,
    "start_time": "2024-02-26T16:44:49.703Z"
   },
   {
    "duration": 249,
    "start_time": "2024-02-26T16:44:50.283Z"
   },
   {
    "duration": 7,
    "start_time": "2024-02-26T16:44:50.533Z"
   },
   {
    "duration": 13,
    "start_time": "2024-02-26T16:44:50.542Z"
   },
   {
    "duration": 9,
    "start_time": "2024-02-26T16:44:50.557Z"
   },
   {
    "duration": 32,
    "start_time": "2024-02-26T16:44:50.567Z"
   },
   {
    "duration": 89,
    "start_time": "2024-02-26T16:44:50.601Z"
   },
   {
    "duration": 5,
    "start_time": "2024-02-26T16:44:50.692Z"
   },
   {
    "duration": 4,
    "start_time": "2024-02-26T16:57:30.667Z"
   },
   {
    "duration": 8,
    "start_time": "2024-02-26T16:57:34.918Z"
   },
   {
    "duration": 102,
    "start_time": "2024-02-26T16:58:03.925Z"
   },
   {
    "duration": 102,
    "start_time": "2024-02-26T16:58:33.997Z"
   },
   {
    "duration": 4,
    "start_time": "2024-02-26T16:58:38.498Z"
   },
   {
    "duration": 8,
    "start_time": "2024-02-26T16:58:42.001Z"
   },
   {
    "duration": 8,
    "start_time": "2024-02-26T16:59:20.211Z"
   },
   {
    "duration": 7,
    "start_time": "2024-02-26T16:59:22.783Z"
   },
   {
    "duration": 1714,
    "start_time": "2024-02-26T17:13:39.570Z"
   },
   {
    "duration": 216,
    "start_time": "2024-02-26T17:13:56.427Z"
   },
   {
    "duration": 120,
    "start_time": "2024-02-26T17:14:37.627Z"
   },
   {
    "duration": 218,
    "start_time": "2024-02-26T17:14:48.703Z"
   },
   {
    "duration": 108,
    "start_time": "2024-02-26T17:53:34.525Z"
   },
   {
    "duration": 8,
    "start_time": "2024-02-26T17:53:59.719Z"
   },
   {
    "duration": 3,
    "start_time": "2024-02-26T18:10:30.310Z"
   },
   {
    "duration": 3,
    "start_time": "2024-02-26T18:10:30.782Z"
   },
   {
    "duration": 9,
    "start_time": "2024-02-26T18:12:01.923Z"
   },
   {
    "duration": 8,
    "start_time": "2024-02-26T18:15:56.229Z"
   },
   {
    "duration": 8,
    "start_time": "2024-02-26T18:16:01.436Z"
   },
   {
    "duration": 192,
    "start_time": "2024-02-26T18:16:02.879Z"
   },
   {
    "duration": 3,
    "start_time": "2024-02-26T18:16:06.461Z"
   },
   {
    "duration": 2,
    "start_time": "2024-02-26T18:16:07.293Z"
   },
   {
    "duration": 11,
    "start_time": "2024-02-26T18:16:09.004Z"
   },
   {
    "duration": 4,
    "start_time": "2024-02-26T18:23:39.264Z"
   },
   {
    "duration": 9,
    "start_time": "2024-02-26T18:23:46.123Z"
   },
   {
    "duration": 4,
    "start_time": "2024-02-26T18:24:53.418Z"
   },
   {
    "duration": 9,
    "start_time": "2024-02-26T18:25:02.573Z"
   },
   {
    "duration": 24,
    "start_time": "2024-02-26T18:51:14.886Z"
   },
   {
    "duration": 56,
    "start_time": "2024-02-26T18:51:31.970Z"
   },
   {
    "duration": 33,
    "start_time": "2024-02-26T19:05:19.559Z"
   },
   {
    "duration": 56,
    "start_time": "2024-02-26T19:05:34.102Z"
   },
   {
    "duration": 51,
    "start_time": "2024-02-26T19:06:22.220Z"
   },
   {
    "duration": 79,
    "start_time": "2024-02-26T19:07:35.125Z"
   },
   {
    "duration": 1994,
    "start_time": "2024-02-27T14:15:42.327Z"
   },
   {
    "duration": 100,
    "start_time": "2024-02-27T14:15:44.323Z"
   },
   {
    "duration": 27,
    "start_time": "2024-02-27T14:15:44.425Z"
   },
   {
    "duration": 30,
    "start_time": "2024-02-27T14:15:44.455Z"
   },
   {
    "duration": 3,
    "start_time": "2024-02-27T14:15:44.486Z"
   },
   {
    "duration": 37,
    "start_time": "2024-02-27T14:15:44.492Z"
   },
   {
    "duration": 23,
    "start_time": "2024-02-27T14:15:44.531Z"
   },
   {
    "duration": 193,
    "start_time": "2024-02-27T14:15:44.556Z"
   },
   {
    "duration": 16,
    "start_time": "2024-02-27T14:15:44.751Z"
   },
   {
    "duration": 4,
    "start_time": "2024-02-27T14:15:44.771Z"
   },
   {
    "duration": 15,
    "start_time": "2024-02-27T14:15:44.777Z"
   },
   {
    "duration": 10,
    "start_time": "2024-02-27T14:15:44.823Z"
   },
   {
    "duration": 51,
    "start_time": "2024-02-27T14:15:44.835Z"
   },
   {
    "duration": 57,
    "start_time": "2024-02-27T14:15:44.888Z"
   },
   {
    "duration": 597,
    "start_time": "2024-02-27T14:15:44.946Z"
   },
   {
    "duration": 271,
    "start_time": "2024-02-27T14:15:45.546Z"
   },
   {
    "duration": 9,
    "start_time": "2024-02-27T14:15:45.819Z"
   },
   {
    "duration": 36,
    "start_time": "2024-02-27T14:15:45.830Z"
   },
   {
    "duration": 10,
    "start_time": "2024-02-27T14:15:45.868Z"
   },
   {
    "duration": 43,
    "start_time": "2024-02-27T14:15:45.880Z"
   },
   {
    "duration": 91,
    "start_time": "2024-02-27T14:15:45.925Z"
   },
   {
    "duration": 7,
    "start_time": "2024-02-27T14:15:46.018Z"
   },
   {
    "duration": 16,
    "start_time": "2024-02-27T14:15:46.026Z"
   },
   {
    "duration": 1291,
    "start_time": "2024-02-27T14:15:46.044Z"
   },
   {
    "duration": 0,
    "start_time": "2024-02-27T14:15:47.336Z"
   },
   {
    "duration": 0,
    "start_time": "2024-02-27T14:15:47.338Z"
   },
   {
    "duration": 0,
    "start_time": "2024-02-27T14:15:47.339Z"
   },
   {
    "duration": 0,
    "start_time": "2024-02-27T14:15:47.341Z"
   },
   {
    "duration": 0,
    "start_time": "2024-02-27T14:15:47.342Z"
   },
   {
    "duration": 0,
    "start_time": "2024-02-27T14:15:47.343Z"
   },
   {
    "duration": 0,
    "start_time": "2024-02-27T14:15:47.345Z"
   },
   {
    "duration": 0,
    "start_time": "2024-02-27T14:15:47.346Z"
   },
   {
    "duration": 215,
    "start_time": "2024-02-27T14:16:51.541Z"
   },
   {
    "duration": 9,
    "start_time": "2024-02-27T14:16:58.167Z"
   },
   {
    "duration": 6,
    "start_time": "2024-02-27T14:16:59.151Z"
   },
   {
    "duration": 8,
    "start_time": "2024-02-27T14:17:01.808Z"
   },
   {
    "duration": 5,
    "start_time": "2024-02-27T14:17:02.208Z"
   },
   {
    "duration": 50,
    "start_time": "2024-02-27T14:17:02.743Z"
   },
   {
    "duration": 90,
    "start_time": "2024-02-27T14:17:04.446Z"
   },
   {
    "duration": 22,
    "start_time": "2024-02-27T14:51:22.145Z"
   },
   {
    "duration": 1182,
    "start_time": "2024-02-27T15:04:25.951Z"
   },
   {
    "duration": 1148,
    "start_time": "2024-02-27T15:07:04.094Z"
   },
   {
    "duration": 1215,
    "start_time": "2024-02-27T15:08:04.537Z"
   },
   {
    "duration": 1437,
    "start_time": "2024-02-27T15:12:37.294Z"
   },
   {
    "duration": 13,
    "start_time": "2024-02-27T15:34:43.992Z"
   },
   {
    "duration": 45,
    "start_time": "2024-02-27T15:35:15.887Z"
   },
   {
    "duration": 1276,
    "start_time": "2024-02-27T15:36:56.951Z"
   },
   {
    "duration": 189,
    "start_time": "2024-02-27T15:38:34.294Z"
   },
   {
    "duration": 1431,
    "start_time": "2024-02-27T15:38:46.717Z"
   },
   {
    "duration": 31,
    "start_time": "2024-02-27T16:26:46.020Z"
   },
   {
    "duration": 28,
    "start_time": "2024-02-27T16:27:55.307Z"
   },
   {
    "duration": 9,
    "start_time": "2024-02-27T16:28:36.287Z"
   },
   {
    "duration": 5,
    "start_time": "2024-02-27T16:49:09.940Z"
   },
   {
    "duration": 12,
    "start_time": "2024-02-27T17:03:17.400Z"
   },
   {
    "duration": 1306,
    "start_time": "2024-02-27T17:03:29.861Z"
   },
   {
    "duration": 15,
    "start_time": "2024-02-27T17:04:38.253Z"
   },
   {
    "duration": 18,
    "start_time": "2024-02-27T17:04:49.337Z"
   },
   {
    "duration": 11,
    "start_time": "2024-02-27T17:04:53.447Z"
   },
   {
    "duration": 4,
    "start_time": "2024-02-27T17:05:39.590Z"
   },
   {
    "duration": 6,
    "start_time": "2024-02-27T17:05:47.495Z"
   },
   {
    "duration": 75,
    "start_time": "2024-02-27T17:05:53.067Z"
   },
   {
    "duration": 83,
    "start_time": "2024-02-27T17:06:15.223Z"
   },
   {
    "duration": 11,
    "start_time": "2024-02-27T17:06:37.695Z"
   },
   {
    "duration": 11,
    "start_time": "2024-02-27T17:06:46.920Z"
   },
   {
    "duration": 159,
    "start_time": "2024-02-27T17:50:09.891Z"
   },
   {
    "duration": 103,
    "start_time": "2024-02-27T17:50:34.336Z"
   },
   {
    "duration": 70,
    "start_time": "2024-02-27T17:50:39.717Z"
   },
   {
    "duration": 7,
    "start_time": "2024-02-27T17:50:54.447Z"
   },
   {
    "duration": 104,
    "start_time": "2024-02-27T17:52:10.018Z"
   },
   {
    "duration": 1260,
    "start_time": "2024-02-27T17:52:15.218Z"
   },
   {
    "duration": 3,
    "start_time": "2024-02-27T18:21:44.290Z"
   },
   {
    "duration": 1199,
    "start_time": "2024-02-27T18:29:20.945Z"
   },
   {
    "duration": 4,
    "start_time": "2024-02-27T18:29:31.799Z"
   },
   {
    "duration": 1204,
    "start_time": "2024-02-27T18:29:58.026Z"
   },
   {
    "duration": 1252,
    "start_time": "2024-02-27T18:30:06.211Z"
   },
   {
    "duration": 1373,
    "start_time": "2024-02-27T18:30:16.726Z"
   },
   {
    "duration": 529,
    "start_time": "2024-02-27T18:30:26.225Z"
   },
   {
    "duration": 13,
    "start_time": "2024-02-27T18:30:35.591Z"
   },
   {
    "duration": 1145,
    "start_time": "2024-02-27T18:33:31.082Z"
   },
   {
    "duration": 4,
    "start_time": "2024-02-27T18:34:19.428Z"
   },
   {
    "duration": 2,
    "start_time": "2024-02-27T18:41:50.466Z"
   },
   {
    "duration": 1275,
    "start_time": "2024-02-27T18:44:48.157Z"
   },
   {
    "duration": 5,
    "start_time": "2024-02-27T18:46:33.446Z"
   },
   {
    "duration": 97,
    "start_time": "2024-02-27T18:47:59.792Z"
   },
   {
    "duration": 3,
    "start_time": "2024-02-27T18:48:11.833Z"
   },
   {
    "duration": 3,
    "start_time": "2024-02-27T18:48:16.940Z"
   },
   {
    "duration": 1186,
    "start_time": "2024-02-27T18:49:34.371Z"
   },
   {
    "duration": 10,
    "start_time": "2024-02-27T18:49:53.977Z"
   },
   {
    "duration": 1240,
    "start_time": "2024-02-27T18:50:16.145Z"
   },
   {
    "duration": 1372,
    "start_time": "2024-02-27T18:51:04.704Z"
   },
   {
    "duration": 33,
    "start_time": "2024-02-27T18:51:24.263Z"
   },
   {
    "duration": 5,
    "start_time": "2024-02-27T18:51:26.271Z"
   },
   {
    "duration": 1279,
    "start_time": "2024-02-27T18:51:27.801Z"
   },
   {
    "duration": 44,
    "start_time": "2024-02-27T18:51:56.889Z"
   },
   {
    "duration": 88,
    "start_time": "2024-02-27T18:51:59.411Z"
   },
   {
    "duration": 2,
    "start_time": "2024-02-27T18:52:00.936Z"
   },
   {
    "duration": 32,
    "start_time": "2024-02-27T18:52:04.192Z"
   },
   {
    "duration": 5,
    "start_time": "2024-02-27T18:52:04.871Z"
   },
   {
    "duration": 10,
    "start_time": "2024-02-27T18:52:06.431Z"
   },
   {
    "duration": 9,
    "start_time": "2024-02-27T19:04:06.690Z"
   },
   {
    "duration": 7,
    "start_time": "2024-02-27T19:05:34.935Z"
   },
   {
    "duration": 1207,
    "start_time": "2024-02-27T19:20:16.556Z"
   },
   {
    "duration": 1273,
    "start_time": "2024-02-27T19:20:37.341Z"
   },
   {
    "duration": 8,
    "start_time": "2024-02-27T19:20:48.501Z"
   },
   {
    "duration": 4,
    "start_time": "2024-02-27T19:21:02.937Z"
   },
   {
    "duration": 4,
    "start_time": "2024-02-27T19:21:26.897Z"
   },
   {
    "duration": 14,
    "start_time": "2024-02-27T19:24:38.251Z"
   },
   {
    "duration": 71,
    "start_time": "2024-02-27T19:25:34.331Z"
   },
   {
    "duration": 6,
    "start_time": "2024-02-27T19:25:42.171Z"
   },
   {
    "duration": 6,
    "start_time": "2024-02-27T19:26:34.202Z"
   },
   {
    "duration": 10,
    "start_time": "2024-02-27T19:28:20.342Z"
   },
   {
    "duration": 1256,
    "start_time": "2024-02-27T19:28:36.475Z"
   },
   {
    "duration": 1163,
    "start_time": "2024-02-27T19:29:35.103Z"
   },
   {
    "duration": 10,
    "start_time": "2024-02-27T19:29:42.776Z"
   },
   {
    "duration": 1142,
    "start_time": "2024-02-27T19:29:50.861Z"
   },
   {
    "duration": 1223,
    "start_time": "2024-02-27T19:30:28.084Z"
   },
   {
    "duration": 8,
    "start_time": "2024-02-27T19:30:38.259Z"
   },
   {
    "duration": 1164,
    "start_time": "2024-02-27T19:31:19.199Z"
   },
   {
    "duration": 20,
    "start_time": "2024-02-27T19:32:51.314Z"
   },
   {
    "duration": 16,
    "start_time": "2024-02-27T19:32:54.590Z"
   },
   {
    "duration": 6,
    "start_time": "2024-02-27T19:33:09.636Z"
   },
   {
    "duration": 56,
    "start_time": "2024-02-27T19:33:14.104Z"
   },
   {
    "duration": 14,
    "start_time": "2024-02-27T19:33:34.918Z"
   },
   {
    "duration": 8,
    "start_time": "2024-02-27T19:33:36.094Z"
   },
   {
    "duration": 7,
    "start_time": "2024-02-27T19:33:38.135Z"
   },
   {
    "duration": 1130,
    "start_time": "2024-02-27T19:33:41.302Z"
   },
   {
    "duration": 2,
    "start_time": "2024-02-27T19:34:35.439Z"
   },
   {
    "duration": 5,
    "start_time": "2024-02-27T19:34:35.920Z"
   },
   {
    "duration": 10,
    "start_time": "2024-02-27T19:36:03.237Z"
   },
   {
    "duration": 1160,
    "start_time": "2024-02-27T19:36:08.699Z"
   },
   {
    "duration": 6,
    "start_time": "2024-02-27T19:39:54.093Z"
   },
   {
    "duration": 1140,
    "start_time": "2024-02-27T19:39:57.268Z"
   },
   {
    "duration": 11,
    "start_time": "2024-02-27T19:40:05.840Z"
   },
   {
    "duration": 6,
    "start_time": "2024-02-27T19:40:33.129Z"
   },
   {
    "duration": 1153,
    "start_time": "2024-02-27T19:40:39.437Z"
   },
   {
    "duration": 6,
    "start_time": "2024-02-27T19:41:19.859Z"
   },
   {
    "duration": 1129,
    "start_time": "2024-02-27T19:41:20.856Z"
   },
   {
    "duration": 88,
    "start_time": "2024-02-27T19:43:19.893Z"
   },
   {
    "duration": 6,
    "start_time": "2024-02-27T19:44:15.882Z"
   },
   {
    "duration": 15,
    "start_time": "2024-02-27T19:44:19.138Z"
   },
   {
    "duration": 16,
    "start_time": "2024-02-27T19:46:26.829Z"
   },
   {
    "duration": 6,
    "start_time": "2024-02-27T19:47:26.060Z"
   },
   {
    "duration": 1293,
    "start_time": "2024-02-27T19:47:29.778Z"
   },
   {
    "duration": 6,
    "start_time": "2024-02-27T19:48:17.841Z"
   },
   {
    "duration": 2,
    "start_time": "2024-02-27T19:48:26.924Z"
   },
   {
    "duration": 6,
    "start_time": "2024-02-27T19:48:39.402Z"
   },
   {
    "duration": 1158,
    "start_time": "2024-02-27T19:48:44.481Z"
   },
   {
    "duration": 7,
    "start_time": "2024-02-27T19:49:10.171Z"
   },
   {
    "duration": 5,
    "start_time": "2024-02-27T19:49:35.211Z"
   },
   {
    "duration": 1178,
    "start_time": "2024-02-27T19:53:49.168Z"
   },
   {
    "duration": 1169,
    "start_time": "2024-02-27T19:54:45.179Z"
   },
   {
    "duration": 1309,
    "start_time": "2024-02-27T19:55:02.794Z"
   },
   {
    "duration": 1187,
    "start_time": "2024-02-27T19:56:05.088Z"
   },
   {
    "duration": 3,
    "start_time": "2024-02-27T19:57:09.295Z"
   },
   {
    "duration": 4,
    "start_time": "2024-02-27T19:57:24.238Z"
   },
   {
    "duration": 4,
    "start_time": "2024-02-27T19:57:31.791Z"
   },
   {
    "duration": 4,
    "start_time": "2024-02-27T19:57:34.082Z"
   },
   {
    "duration": 12,
    "start_time": "2024-02-27T19:57:45.823Z"
   },
   {
    "duration": 5,
    "start_time": "2024-02-27T19:57:48.662Z"
   },
   {
    "duration": 3,
    "start_time": "2024-02-27T19:58:18.862Z"
   },
   {
    "duration": 6,
    "start_time": "2024-02-27T19:58:30.088Z"
   },
   {
    "duration": 1177,
    "start_time": "2024-02-27T19:58:33.239Z"
   },
   {
    "duration": 3,
    "start_time": "2024-02-27T19:58:52.708Z"
   },
   {
    "duration": 5,
    "start_time": "2024-02-27T19:59:00.667Z"
   },
   {
    "duration": 5,
    "start_time": "2024-02-27T19:59:13.978Z"
   },
   {
    "duration": 1178,
    "start_time": "2024-02-27T19:59:19.159Z"
   },
   {
    "duration": 1203,
    "start_time": "2024-02-27T20:00:38.795Z"
   },
   {
    "duration": 13,
    "start_time": "2024-02-27T20:01:03.804Z"
   },
   {
    "duration": 1242,
    "start_time": "2024-02-27T20:01:12.384Z"
   },
   {
    "duration": 6,
    "start_time": "2024-02-27T20:01:40.461Z"
   },
   {
    "duration": 10,
    "start_time": "2024-02-27T20:01:52.011Z"
   },
   {
    "duration": 15,
    "start_time": "2024-02-27T20:02:03.464Z"
   },
   {
    "duration": 12,
    "start_time": "2024-02-27T20:02:09.082Z"
   },
   {
    "duration": 10,
    "start_time": "2024-02-27T20:02:16.254Z"
   },
   {
    "duration": 11,
    "start_time": "2024-02-27T20:02:20.731Z"
   },
   {
    "duration": 4,
    "start_time": "2024-02-27T20:02:36.940Z"
   },
   {
    "duration": 5,
    "start_time": "2024-02-27T20:14:17.819Z"
   },
   {
    "duration": 4,
    "start_time": "2024-02-27T20:14:24.322Z"
   },
   {
    "duration": 8,
    "start_time": "2024-02-27T20:14:51.682Z"
   },
   {
    "duration": 9,
    "start_time": "2024-02-27T20:15:02.841Z"
   },
   {
    "duration": 5,
    "start_time": "2024-02-27T20:15:34.308Z"
   },
   {
    "duration": 11,
    "start_time": "2024-02-27T20:15:48.822Z"
   },
   {
    "duration": 27,
    "start_time": "2024-02-27T20:16:07.807Z"
   },
   {
    "duration": 10,
    "start_time": "2024-02-27T20:16:20.153Z"
   },
   {
    "duration": 5,
    "start_time": "2024-02-27T20:16:24.307Z"
   },
   {
    "duration": 1161,
    "start_time": "2024-02-27T20:16:44.558Z"
   },
   {
    "duration": 1163,
    "start_time": "2024-02-27T20:16:48.664Z"
   },
   {
    "duration": 1158,
    "start_time": "2024-02-27T20:16:51.937Z"
   },
   {
    "duration": 5,
    "start_time": "2024-02-27T20:16:58.536Z"
   },
   {
    "duration": 4,
    "start_time": "2024-02-27T20:17:08.323Z"
   },
   {
    "duration": 10,
    "start_time": "2024-02-27T20:18:22.658Z"
   },
   {
    "duration": 9,
    "start_time": "2024-02-27T20:18:34.764Z"
   },
   {
    "duration": 1146,
    "start_time": "2024-02-27T20:18:58.837Z"
   },
   {
    "duration": 11,
    "start_time": "2024-02-27T20:19:09.214Z"
   },
   {
    "duration": 1189,
    "start_time": "2024-02-27T20:20:34.541Z"
   },
   {
    "duration": 1132,
    "start_time": "2024-02-27T20:20:53.346Z"
   },
   {
    "duration": 5,
    "start_time": "2024-02-27T20:21:03.812Z"
   },
   {
    "duration": 9,
    "start_time": "2024-02-27T20:22:29.307Z"
   },
   {
    "duration": 71,
    "start_time": "2024-02-27T20:22:42.215Z"
   },
   {
    "duration": 76,
    "start_time": "2024-02-27T20:23:43.912Z"
   },
   {
    "duration": 78,
    "start_time": "2024-02-27T20:23:58.996Z"
   },
   {
    "duration": 71,
    "start_time": "2024-02-27T20:24:24.642Z"
   },
   {
    "duration": 5,
    "start_time": "2024-02-27T20:25:08.293Z"
   },
   {
    "duration": 4,
    "start_time": "2024-02-27T20:25:38.537Z"
   },
   {
    "duration": 4,
    "start_time": "2024-02-27T20:25:45.572Z"
   },
   {
    "duration": 80,
    "start_time": "2024-02-27T20:26:06.351Z"
   },
   {
    "duration": 81,
    "start_time": "2024-02-27T20:26:35.472Z"
   },
   {
    "duration": 74,
    "start_time": "2024-02-27T20:26:47.653Z"
   },
   {
    "duration": 8,
    "start_time": "2024-02-27T20:28:06.635Z"
   },
   {
    "duration": 83,
    "start_time": "2024-02-27T20:28:14.868Z"
   },
   {
    "duration": 78,
    "start_time": "2024-02-27T20:28:50.087Z"
   },
   {
    "duration": 76,
    "start_time": "2024-02-27T20:28:58.195Z"
   },
   {
    "duration": 4,
    "start_time": "2024-02-27T20:29:26.721Z"
   },
   {
    "duration": 91,
    "start_time": "2024-02-27T20:29:57.289Z"
   },
   {
    "duration": 4,
    "start_time": "2024-02-27T20:30:05.473Z"
   },
   {
    "duration": 74,
    "start_time": "2024-02-27T20:30:10.462Z"
   },
   {
    "duration": 77,
    "start_time": "2024-02-27T20:30:14.586Z"
   },
   {
    "duration": 4,
    "start_time": "2024-02-27T20:30:41.922Z"
   },
   {
    "duration": 68,
    "start_time": "2024-02-27T20:30:47.834Z"
   },
   {
    "duration": 74,
    "start_time": "2024-02-27T20:31:04.334Z"
   },
   {
    "duration": 67,
    "start_time": "2024-02-27T20:31:14.914Z"
   },
   {
    "duration": 4,
    "start_time": "2024-02-27T20:31:32.130Z"
   },
   {
    "duration": 66,
    "start_time": "2024-02-27T20:31:37.711Z"
   },
   {
    "duration": 4,
    "start_time": "2024-02-27T20:32:08.132Z"
   },
   {
    "duration": 4,
    "start_time": "2024-02-27T20:32:29.202Z"
   },
   {
    "duration": 69,
    "start_time": "2024-02-27T20:32:41.909Z"
   },
   {
    "duration": 1210,
    "start_time": "2024-02-27T20:32:53.261Z"
   },
   {
    "duration": 6,
    "start_time": "2024-02-27T20:33:19.943Z"
   },
   {
    "duration": 20,
    "start_time": "2024-02-27T20:33:39.073Z"
   },
   {
    "duration": 12,
    "start_time": "2024-02-27T20:33:50.414Z"
   },
   {
    "duration": 5,
    "start_time": "2024-02-27T20:34:55.586Z"
   },
   {
    "duration": 4,
    "start_time": "2024-02-27T20:35:26.721Z"
   },
   {
    "duration": 78,
    "start_time": "2024-02-27T20:36:11.548Z"
   },
   {
    "duration": 11,
    "start_time": "2024-02-27T20:36:26.539Z"
   },
   {
    "duration": 4,
    "start_time": "2024-02-27T20:37:02.750Z"
   },
   {
    "duration": 3,
    "start_time": "2024-02-27T20:37:46.075Z"
   },
   {
    "duration": 4,
    "start_time": "2024-02-27T20:37:48.775Z"
   },
   {
    "duration": 71,
    "start_time": "2024-02-27T20:38:12.866Z"
   },
   {
    "duration": 10,
    "start_time": "2024-02-27T20:38:39.666Z"
   },
   {
    "duration": 4,
    "start_time": "2024-02-27T20:40:38.237Z"
   },
   {
    "duration": 6,
    "start_time": "2024-02-27T20:41:34.415Z"
   },
   {
    "duration": 73,
    "start_time": "2024-02-27T20:41:50.023Z"
   },
   {
    "duration": 4,
    "start_time": "2024-02-27T20:42:30.154Z"
   },
   {
    "duration": 4,
    "start_time": "2024-02-27T20:42:31.274Z"
   },
   {
    "duration": 14,
    "start_time": "2024-02-27T20:42:50.788Z"
   },
   {
    "duration": 4,
    "start_time": "2024-02-27T20:43:10.674Z"
   },
   {
    "duration": 4,
    "start_time": "2024-02-27T20:43:14.354Z"
   },
   {
    "duration": 4,
    "start_time": "2024-02-27T20:43:19.522Z"
   },
   {
    "duration": 1884,
    "start_time": "2024-02-28T13:53:38.636Z"
   },
   {
    "duration": 97,
    "start_time": "2024-02-28T13:53:40.522Z"
   },
   {
    "duration": 15,
    "start_time": "2024-02-28T13:53:40.621Z"
   },
   {
    "duration": 22,
    "start_time": "2024-02-28T13:53:40.638Z"
   },
   {
    "duration": 3,
    "start_time": "2024-02-28T13:53:40.661Z"
   },
   {
    "duration": 21,
    "start_time": "2024-02-28T13:53:40.666Z"
   },
   {
    "duration": 37,
    "start_time": "2024-02-28T13:53:40.689Z"
   },
   {
    "duration": 150,
    "start_time": "2024-02-28T13:53:40.728Z"
   },
   {
    "duration": 15,
    "start_time": "2024-02-28T13:53:40.879Z"
   },
   {
    "duration": 12,
    "start_time": "2024-02-28T13:53:40.897Z"
   },
   {
    "duration": 15,
    "start_time": "2024-02-28T13:53:40.918Z"
   },
   {
    "duration": 7,
    "start_time": "2024-02-28T13:53:40.935Z"
   },
   {
    "duration": 28,
    "start_time": "2024-02-28T13:53:40.944Z"
   },
   {
    "duration": 23,
    "start_time": "2024-02-28T13:53:40.974Z"
   },
   {
    "duration": 560,
    "start_time": "2024-02-28T13:53:41.000Z"
   },
   {
    "duration": 266,
    "start_time": "2024-02-28T13:53:41.562Z"
   },
   {
    "duration": 8,
    "start_time": "2024-02-28T13:53:41.829Z"
   },
   {
    "duration": 15,
    "start_time": "2024-02-28T13:53:41.838Z"
   },
   {
    "duration": 18,
    "start_time": "2024-02-28T13:53:41.854Z"
   },
   {
    "duration": 51,
    "start_time": "2024-02-28T13:53:41.873Z"
   },
   {
    "duration": 95,
    "start_time": "2024-02-28T13:53:41.925Z"
   },
   {
    "duration": 10,
    "start_time": "2024-02-28T13:53:42.022Z"
   },
   {
    "duration": 9,
    "start_time": "2024-02-28T13:53:42.034Z"
   },
   {
    "duration": 213,
    "start_time": "2024-02-28T13:53:42.045Z"
   },
   {
    "duration": 3,
    "start_time": "2024-02-28T13:53:42.259Z"
   },
   {
    "duration": 7,
    "start_time": "2024-02-28T13:53:42.264Z"
   },
   {
    "duration": 19,
    "start_time": "2024-02-28T13:53:42.273Z"
   },
   {
    "duration": 5,
    "start_time": "2024-02-28T13:53:42.297Z"
   },
   {
    "duration": 17,
    "start_time": "2024-02-28T13:53:42.304Z"
   },
   {
    "duration": 7,
    "start_time": "2024-02-28T13:53:42.323Z"
   },
   {
    "duration": 64,
    "start_time": "2024-02-28T13:53:42.332Z"
   },
   {
    "duration": 96,
    "start_time": "2024-02-28T13:53:42.397Z"
   },
   {
    "duration": 4,
    "start_time": "2024-02-28T13:53:42.495Z"
   },
   {
    "duration": 30,
    "start_time": "2024-02-28T13:53:42.517Z"
   },
   {
    "duration": 5,
    "start_time": "2024-02-28T13:53:42.548Z"
   },
   {
    "duration": 17,
    "start_time": "2024-02-28T13:53:42.554Z"
   },
   {
    "duration": 96,
    "start_time": "2024-02-28T13:53:42.572Z"
   },
   {
    "duration": 2,
    "start_time": "2024-02-28T13:53:42.670Z"
   },
   {
    "duration": 19,
    "start_time": "2024-02-28T13:53:42.674Z"
   },
   {
    "duration": 5,
    "start_time": "2024-02-28T13:53:42.695Z"
   },
   {
    "duration": 9,
    "start_time": "2024-02-28T13:53:42.701Z"
   },
   {
    "duration": 5,
    "start_time": "2024-02-28T13:53:42.712Z"
   },
   {
    "duration": 9,
    "start_time": "2024-02-28T13:53:42.719Z"
   },
   {
    "duration": 11,
    "start_time": "2024-02-28T13:53:42.729Z"
   },
   {
    "duration": 7,
    "start_time": "2024-02-28T13:53:42.742Z"
   },
   {
    "duration": 101,
    "start_time": "2024-02-28T13:53:42.750Z"
   },
   {
    "duration": 0,
    "start_time": "2024-02-28T13:53:42.852Z"
   },
   {
    "duration": 0,
    "start_time": "2024-02-28T13:53:42.854Z"
   },
   {
    "duration": 0,
    "start_time": "2024-02-28T13:53:42.855Z"
   },
   {
    "duration": 0,
    "start_time": "2024-02-28T13:53:42.856Z"
   },
   {
    "duration": 0,
    "start_time": "2024-02-28T13:53:42.857Z"
   },
   {
    "duration": 0,
    "start_time": "2024-02-28T13:53:42.858Z"
   },
   {
    "duration": 0,
    "start_time": "2024-02-28T13:53:42.859Z"
   },
   {
    "duration": 0,
    "start_time": "2024-02-28T13:53:42.860Z"
   },
   {
    "duration": 0,
    "start_time": "2024-02-28T13:53:42.862Z"
   },
   {
    "duration": 0,
    "start_time": "2024-02-28T13:53:42.863Z"
   },
   {
    "duration": 0,
    "start_time": "2024-02-28T13:53:42.864Z"
   },
   {
    "duration": 0,
    "start_time": "2024-02-28T13:53:42.865Z"
   },
   {
    "duration": 0,
    "start_time": "2024-02-28T13:53:42.866Z"
   },
   {
    "duration": 1,
    "start_time": "2024-02-28T13:53:42.866Z"
   },
   {
    "duration": 3,
    "start_time": "2024-02-28T13:54:17.276Z"
   },
   {
    "duration": 4,
    "start_time": "2024-02-28T13:54:18.107Z"
   },
   {
    "duration": 12,
    "start_time": "2024-02-28T13:54:19.132Z"
   },
   {
    "duration": 10,
    "start_time": "2024-02-28T13:54:19.611Z"
   },
   {
    "duration": 9,
    "start_time": "2024-02-28T13:54:32.315Z"
   },
   {
    "duration": 10,
    "start_time": "2024-02-28T13:54:37.138Z"
   },
   {
    "duration": 10,
    "start_time": "2024-02-28T13:54:38.580Z"
   },
   {
    "duration": 12,
    "start_time": "2024-02-28T13:54:41.870Z"
   },
   {
    "duration": 1438,
    "start_time": "2024-02-28T13:55:09.427Z"
   },
   {
    "duration": 93,
    "start_time": "2024-02-28T13:55:10.867Z"
   },
   {
    "duration": 15,
    "start_time": "2024-02-28T13:55:10.962Z"
   },
   {
    "duration": 32,
    "start_time": "2024-02-28T13:55:10.979Z"
   },
   {
    "duration": 12,
    "start_time": "2024-02-28T13:55:11.012Z"
   },
   {
    "duration": 19,
    "start_time": "2024-02-28T13:55:11.026Z"
   },
   {
    "duration": 19,
    "start_time": "2024-02-28T13:55:11.046Z"
   },
   {
    "duration": 142,
    "start_time": "2024-02-28T13:55:11.067Z"
   },
   {
    "duration": 21,
    "start_time": "2024-02-28T13:55:11.211Z"
   },
   {
    "duration": 4,
    "start_time": "2024-02-28T13:55:11.234Z"
   },
   {
    "duration": 17,
    "start_time": "2024-02-28T13:55:11.239Z"
   },
   {
    "duration": 8,
    "start_time": "2024-02-28T13:55:11.257Z"
   },
   {
    "duration": 23,
    "start_time": "2024-02-28T13:55:11.266Z"
   },
   {
    "duration": 32,
    "start_time": "2024-02-28T13:55:11.290Z"
   },
   {
    "duration": 698,
    "start_time": "2024-02-28T13:55:11.323Z"
   },
   {
    "duration": 244,
    "start_time": "2024-02-28T13:55:12.023Z"
   },
   {
    "duration": 9,
    "start_time": "2024-02-28T13:55:12.269Z"
   },
   {
    "duration": 19,
    "start_time": "2024-02-28T13:55:12.280Z"
   },
   {
    "duration": 9,
    "start_time": "2024-02-28T13:55:12.318Z"
   },
   {
    "duration": 33,
    "start_time": "2024-02-28T13:55:12.329Z"
   },
   {
    "duration": 87,
    "start_time": "2024-02-28T13:55:12.364Z"
   },
   {
    "duration": 6,
    "start_time": "2024-02-28T13:55:12.453Z"
   },
   {
    "duration": 13,
    "start_time": "2024-02-28T13:55:12.461Z"
   },
   {
    "duration": 232,
    "start_time": "2024-02-28T13:55:12.475Z"
   },
   {
    "duration": 9,
    "start_time": "2024-02-28T13:55:12.709Z"
   },
   {
    "duration": 4,
    "start_time": "2024-02-28T13:55:12.720Z"
   },
   {
    "duration": 14,
    "start_time": "2024-02-28T13:55:12.725Z"
   },
   {
    "duration": 9,
    "start_time": "2024-02-28T13:55:12.745Z"
   },
   {
    "duration": 11,
    "start_time": "2024-02-28T13:55:12.756Z"
   },
   {
    "duration": 4,
    "start_time": "2024-02-28T13:55:12.769Z"
   },
   {
    "duration": 86,
    "start_time": "2024-02-28T13:55:12.775Z"
   },
   {
    "duration": 100,
    "start_time": "2024-02-28T13:55:12.864Z"
   },
   {
    "duration": 4,
    "start_time": "2024-02-28T13:55:12.966Z"
   },
   {
    "duration": 28,
    "start_time": "2024-02-28T13:55:12.971Z"
   },
   {
    "duration": 18,
    "start_time": "2024-02-28T13:55:13.001Z"
   },
   {
    "duration": 12,
    "start_time": "2024-02-28T13:55:13.021Z"
   },
   {
    "duration": 96,
    "start_time": "2024-02-28T13:55:13.034Z"
   },
   {
    "duration": 3,
    "start_time": "2024-02-28T13:55:13.131Z"
   },
   {
    "duration": 7,
    "start_time": "2024-02-28T13:55:13.136Z"
   },
   {
    "duration": 3,
    "start_time": "2024-02-28T13:55:13.145Z"
   },
   {
    "duration": 15,
    "start_time": "2024-02-28T13:55:13.150Z"
   },
   {
    "duration": 5,
    "start_time": "2024-02-28T13:55:13.167Z"
   },
   {
    "duration": 5,
    "start_time": "2024-02-28T13:55:13.174Z"
   },
   {
    "duration": 7,
    "start_time": "2024-02-28T13:55:13.180Z"
   },
   {
    "duration": 9,
    "start_time": "2024-02-28T13:55:13.188Z"
   },
   {
    "duration": 121,
    "start_time": "2024-02-28T13:55:13.198Z"
   },
   {
    "duration": 0,
    "start_time": "2024-02-28T13:55:13.320Z"
   },
   {
    "duration": 0,
    "start_time": "2024-02-28T13:55:13.321Z"
   },
   {
    "duration": 0,
    "start_time": "2024-02-28T13:55:13.322Z"
   },
   {
    "duration": 0,
    "start_time": "2024-02-28T13:55:13.324Z"
   },
   {
    "duration": 0,
    "start_time": "2024-02-28T13:55:13.325Z"
   },
   {
    "duration": 0,
    "start_time": "2024-02-28T13:55:13.327Z"
   },
   {
    "duration": 0,
    "start_time": "2024-02-28T13:55:13.327Z"
   },
   {
    "duration": 0,
    "start_time": "2024-02-28T13:55:13.328Z"
   },
   {
    "duration": 0,
    "start_time": "2024-02-28T13:55:13.329Z"
   },
   {
    "duration": 0,
    "start_time": "2024-02-28T13:55:13.331Z"
   },
   {
    "duration": 0,
    "start_time": "2024-02-28T13:55:13.332Z"
   },
   {
    "duration": 0,
    "start_time": "2024-02-28T13:55:13.333Z"
   },
   {
    "duration": 0,
    "start_time": "2024-02-28T13:55:13.334Z"
   },
   {
    "duration": 0,
    "start_time": "2024-02-28T13:55:13.335Z"
   },
   {
    "duration": 4,
    "start_time": "2024-02-28T13:55:21.661Z"
   },
   {
    "duration": 4,
    "start_time": "2024-02-28T13:56:08.335Z"
   },
   {
    "duration": 7,
    "start_time": "2024-02-28T13:56:36.504Z"
   },
   {
    "duration": 8,
    "start_time": "2024-02-28T13:56:44.170Z"
   },
   {
    "duration": 12,
    "start_time": "2024-02-28T13:57:23.520Z"
   },
   {
    "duration": 15,
    "start_time": "2024-02-28T13:57:40.758Z"
   },
   {
    "duration": 4,
    "start_time": "2024-02-28T13:57:48.983Z"
   },
   {
    "duration": 4,
    "start_time": "2024-02-28T13:58:03.008Z"
   },
   {
    "duration": 67,
    "start_time": "2024-02-28T14:00:20.303Z"
   },
   {
    "duration": 7,
    "start_time": "2024-02-28T14:00:32.679Z"
   },
   {
    "duration": 9,
    "start_time": "2024-02-28T14:00:43.190Z"
   },
   {
    "duration": 8,
    "start_time": "2024-02-28T14:00:56.890Z"
   },
   {
    "duration": 5,
    "start_time": "2024-02-28T14:01:11.856Z"
   },
   {
    "duration": 4,
    "start_time": "2024-02-28T14:01:27.567Z"
   },
   {
    "duration": 6,
    "start_time": "2024-02-28T14:25:19.043Z"
   },
   {
    "duration": 6,
    "start_time": "2024-02-28T14:25:23.395Z"
   },
   {
    "duration": 3,
    "start_time": "2024-02-28T14:25:44.402Z"
   },
   {
    "duration": 5,
    "start_time": "2024-02-28T14:25:45.634Z"
   },
   {
    "duration": 5,
    "start_time": "2024-02-28T14:26:01.034Z"
   },
   {
    "duration": 9,
    "start_time": "2024-02-28T14:26:02.874Z"
   },
   {
    "duration": 9,
    "start_time": "2024-02-28T14:26:18.665Z"
   },
   {
    "duration": 4,
    "start_time": "2024-02-28T14:26:23.536Z"
   },
   {
    "duration": 4,
    "start_time": "2024-02-28T14:27:00.659Z"
   },
   {
    "duration": 4,
    "start_time": "2024-02-28T14:27:20.186Z"
   },
   {
    "duration": 5,
    "start_time": "2024-02-28T14:27:20.873Z"
   },
   {
    "duration": 10,
    "start_time": "2024-02-28T14:27:21.974Z"
   },
   {
    "duration": 13,
    "start_time": "2024-02-28T14:27:27.248Z"
   },
   {
    "duration": 5,
    "start_time": "2024-02-28T14:27:31.099Z"
   },
   {
    "duration": 7,
    "start_time": "2024-02-28T14:27:46.156Z"
   },
   {
    "duration": 6,
    "start_time": "2024-02-28T14:27:48.356Z"
   },
   {
    "duration": 12,
    "start_time": "2024-02-28T14:27:50.426Z"
   },
   {
    "duration": 4,
    "start_time": "2024-02-28T14:27:53.474Z"
   },
   {
    "duration": 7,
    "start_time": "2024-02-28T14:29:37.243Z"
   },
   {
    "duration": 4,
    "start_time": "2024-02-28T14:30:03.341Z"
   },
   {
    "duration": 11,
    "start_time": "2024-02-28T14:30:09.566Z"
   },
   {
    "duration": 5,
    "start_time": "2024-02-28T14:30:19.025Z"
   },
   {
    "duration": 3,
    "start_time": "2024-02-28T14:33:20.337Z"
   },
   {
    "duration": 7,
    "start_time": "2024-02-28T14:33:20.880Z"
   },
   {
    "duration": 6,
    "start_time": "2024-02-28T14:34:23.890Z"
   },
   {
    "duration": 5,
    "start_time": "2024-02-28T14:34:33.024Z"
   },
   {
    "duration": 1143,
    "start_time": "2024-02-28T14:35:36.849Z"
   },
   {
    "duration": 5,
    "start_time": "2024-02-28T14:35:50.563Z"
   },
   {
    "duration": 1166,
    "start_time": "2024-02-28T14:38:02.157Z"
   },
   {
    "duration": 11,
    "start_time": "2024-02-28T14:38:21.941Z"
   },
   {
    "duration": 1213,
    "start_time": "2024-02-28T14:38:35.082Z"
   },
   {
    "duration": 1182,
    "start_time": "2024-02-28T14:41:20.147Z"
   },
   {
    "duration": 1161,
    "start_time": "2024-02-28T14:41:31.568Z"
   },
   {
    "duration": 14,
    "start_time": "2024-02-28T14:41:56.984Z"
   },
   {
    "duration": 4,
    "start_time": "2024-02-28T14:42:07.056Z"
   },
   {
    "duration": 8,
    "start_time": "2024-02-28T14:44:32.101Z"
   },
   {
    "duration": 1174,
    "start_time": "2024-02-28T14:44:43.124Z"
   },
   {
    "duration": 4,
    "start_time": "2024-02-28T14:45:01.557Z"
   },
   {
    "duration": 5,
    "start_time": "2024-02-28T14:45:10.211Z"
   },
   {
    "duration": 8,
    "start_time": "2024-02-28T15:37:12.544Z"
   },
   {
    "duration": 10,
    "start_time": "2024-02-28T15:49:48.812Z"
   },
   {
    "duration": 9,
    "start_time": "2024-02-28T15:51:27.828Z"
   },
   {
    "duration": 1114,
    "start_time": "2024-02-28T16:13:46.322Z"
   },
   {
    "duration": 6,
    "start_time": "2024-02-28T16:13:58.621Z"
   },
   {
    "duration": 4,
    "start_time": "2024-02-28T16:14:04.064Z"
   },
   {
    "duration": 5,
    "start_time": "2024-02-28T16:32:11.138Z"
   },
   {
    "duration": 8,
    "start_time": "2024-02-28T16:39:37.089Z"
   },
   {
    "duration": 9,
    "start_time": "2024-02-28T16:39:41.071Z"
   },
   {
    "duration": 5,
    "start_time": "2024-02-28T16:39:58.793Z"
   },
   {
    "duration": 5,
    "start_time": "2024-02-28T16:40:02.985Z"
   },
   {
    "duration": 4,
    "start_time": "2024-02-28T16:40:07.377Z"
   },
   {
    "duration": 3,
    "start_time": "2024-02-28T16:40:20.492Z"
   },
   {
    "duration": 3,
    "start_time": "2024-02-28T16:40:22.961Z"
   },
   {
    "duration": 5,
    "start_time": "2024-02-28T16:40:42.993Z"
   },
   {
    "duration": 4,
    "start_time": "2024-02-28T16:40:45.411Z"
   },
   {
    "duration": 4,
    "start_time": "2024-02-28T16:41:26.979Z"
   },
   {
    "duration": 4,
    "start_time": "2024-02-28T16:41:29.939Z"
   },
   {
    "duration": 4,
    "start_time": "2024-02-28T16:41:57.012Z"
   },
   {
    "duration": 5,
    "start_time": "2024-02-28T16:42:11.606Z"
   },
   {
    "duration": 4,
    "start_time": "2024-02-28T16:42:13.951Z"
   },
   {
    "duration": 3,
    "start_time": "2024-02-28T16:44:43.837Z"
   },
   {
    "duration": 8,
    "start_time": "2024-02-28T16:51:20.256Z"
   },
   {
    "duration": 3,
    "start_time": "2024-02-28T16:52:51.139Z"
   },
   {
    "duration": 4,
    "start_time": "2024-02-28T16:52:58.739Z"
   },
   {
    "duration": 4,
    "start_time": "2024-02-28T16:53:19.477Z"
   },
   {
    "duration": 73,
    "start_time": "2024-02-28T16:59:18.822Z"
   },
   {
    "duration": 76,
    "start_time": "2024-02-28T16:59:25.806Z"
   },
   {
    "duration": 12,
    "start_time": "2024-02-28T16:59:38.961Z"
   },
   {
    "duration": 90,
    "start_time": "2024-02-28T17:00:42.290Z"
   },
   {
    "duration": 5,
    "start_time": "2024-02-28T17:00:48.316Z"
   },
   {
    "duration": 10,
    "start_time": "2024-02-28T17:02:10.119Z"
   },
   {
    "duration": 11,
    "start_time": "2024-02-28T17:02:17.054Z"
   },
   {
    "duration": 6,
    "start_time": "2024-02-28T17:03:10.211Z"
   },
   {
    "duration": 5,
    "start_time": "2024-02-28T17:03:14.924Z"
   },
   {
    "duration": 4,
    "start_time": "2024-02-28T17:03:18.314Z"
   },
   {
    "duration": 5,
    "start_time": "2024-02-28T17:03:34.355Z"
   },
   {
    "duration": 11,
    "start_time": "2024-02-28T17:24:34.144Z"
   },
   {
    "duration": 12,
    "start_time": "2024-02-28T17:37:40.531Z"
   },
   {
    "duration": 10,
    "start_time": "2024-02-28T17:38:03.301Z"
   },
   {
    "duration": 4,
    "start_time": "2024-02-28T17:39:34.896Z"
   },
   {
    "duration": 66,
    "start_time": "2024-02-28T18:07:50.785Z"
   },
   {
    "duration": 9,
    "start_time": "2024-02-28T18:07:51.329Z"
   },
   {
    "duration": 7,
    "start_time": "2024-02-28T18:08:01.989Z"
   },
   {
    "duration": 233,
    "start_time": "2024-02-28T18:09:37.240Z"
   },
   {
    "duration": 15,
    "start_time": "2024-02-28T18:17:21.399Z"
   },
   {
    "duration": 12,
    "start_time": "2024-02-28T18:18:16.551Z"
   },
   {
    "duration": 17,
    "start_time": "2024-02-28T18:19:15.937Z"
   },
   {
    "duration": 15,
    "start_time": "2024-02-28T18:19:24.746Z"
   },
   {
    "duration": 22,
    "start_time": "2024-02-28T18:20:30.314Z"
   },
   {
    "duration": 9,
    "start_time": "2024-02-28T18:20:35.127Z"
   },
   {
    "duration": 4,
    "start_time": "2024-02-28T18:20:50.094Z"
   },
   {
    "duration": 9,
    "start_time": "2024-02-28T18:20:51.431Z"
   },
   {
    "duration": 5,
    "start_time": "2024-02-28T18:20:52.181Z"
   },
   {
    "duration": 4,
    "start_time": "2024-02-28T18:20:54.998Z"
   },
   {
    "duration": 7,
    "start_time": "2024-02-28T18:20:56.605Z"
   },
   {
    "duration": 1431,
    "start_time": "2024-02-28T18:49:43.677Z"
   },
   {
    "duration": 100,
    "start_time": "2024-02-28T18:49:45.110Z"
   },
   {
    "duration": 34,
    "start_time": "2024-02-28T18:49:45.217Z"
   },
   {
    "duration": 24,
    "start_time": "2024-02-28T18:49:45.254Z"
   },
   {
    "duration": 4,
    "start_time": "2024-02-28T18:49:45.279Z"
   },
   {
    "duration": 51,
    "start_time": "2024-02-28T18:49:45.285Z"
   },
   {
    "duration": 170,
    "start_time": "2024-02-28T18:49:45.343Z"
   },
   {
    "duration": 29,
    "start_time": "2024-02-28T18:49:45.514Z"
   },
   {
    "duration": 18,
    "start_time": "2024-02-28T18:49:45.544Z"
   },
   {
    "duration": 36,
    "start_time": "2024-02-28T18:49:45.564Z"
   },
   {
    "duration": 7,
    "start_time": "2024-02-28T18:49:45.602Z"
   },
   {
    "duration": 42,
    "start_time": "2024-02-28T18:49:45.610Z"
   },
   {
    "duration": 32,
    "start_time": "2024-02-28T18:49:45.654Z"
   },
   {
    "duration": 657,
    "start_time": "2024-02-28T18:49:45.688Z"
   },
   {
    "duration": 239,
    "start_time": "2024-02-28T18:49:46.348Z"
   },
   {
    "duration": 7,
    "start_time": "2024-02-28T18:49:46.588Z"
   },
   {
    "duration": 32,
    "start_time": "2024-02-28T18:49:46.596Z"
   },
   {
    "duration": 16,
    "start_time": "2024-02-28T18:49:46.630Z"
   },
   {
    "duration": 25,
    "start_time": "2024-02-28T18:49:46.648Z"
   },
   {
    "duration": 87,
    "start_time": "2024-02-28T18:49:46.675Z"
   },
   {
    "duration": 6,
    "start_time": "2024-02-28T18:49:46.763Z"
   },
   {
    "duration": 6,
    "start_time": "2024-02-28T18:49:46.770Z"
   },
   {
    "duration": 238,
    "start_time": "2024-02-28T18:49:46.778Z"
   },
   {
    "duration": 3,
    "start_time": "2024-02-28T18:49:47.017Z"
   },
   {
    "duration": 7,
    "start_time": "2024-02-28T18:49:47.022Z"
   },
   {
    "duration": 13,
    "start_time": "2024-02-28T18:49:47.031Z"
   },
   {
    "duration": 71,
    "start_time": "2024-02-28T18:49:47.045Z"
   },
   {
    "duration": 0,
    "start_time": "2024-02-28T18:49:47.123Z"
   },
   {
    "duration": 0,
    "start_time": "2024-02-28T18:49:47.125Z"
   },
   {
    "duration": 0,
    "start_time": "2024-02-28T18:49:47.126Z"
   },
   {
    "duration": 0,
    "start_time": "2024-02-28T18:49:47.128Z"
   },
   {
    "duration": 0,
    "start_time": "2024-02-28T18:49:47.130Z"
   },
   {
    "duration": 0,
    "start_time": "2024-02-28T18:49:47.131Z"
   },
   {
    "duration": 0,
    "start_time": "2024-02-28T18:49:47.133Z"
   },
   {
    "duration": 0,
    "start_time": "2024-02-28T18:49:47.134Z"
   },
   {
    "duration": 0,
    "start_time": "2024-02-28T18:49:47.135Z"
   },
   {
    "duration": 0,
    "start_time": "2024-02-28T18:49:47.136Z"
   },
   {
    "duration": 0,
    "start_time": "2024-02-28T18:49:47.138Z"
   },
   {
    "duration": 0,
    "start_time": "2024-02-28T18:49:47.139Z"
   },
   {
    "duration": 0,
    "start_time": "2024-02-28T18:49:47.140Z"
   },
   {
    "duration": 0,
    "start_time": "2024-02-28T18:49:47.141Z"
   },
   {
    "duration": 0,
    "start_time": "2024-02-28T18:49:47.143Z"
   },
   {
    "duration": 0,
    "start_time": "2024-02-28T18:49:47.144Z"
   },
   {
    "duration": 5,
    "start_time": "2024-02-28T18:50:13.685Z"
   },
   {
    "duration": 10,
    "start_time": "2024-02-28T18:50:13.885Z"
   },
   {
    "duration": 5,
    "start_time": "2024-02-28T18:50:14.172Z"
   },
   {
    "duration": 6,
    "start_time": "2024-02-28T18:50:15.102Z"
   },
   {
    "duration": 14,
    "start_time": "2024-02-28T18:50:15.321Z"
   },
   {
    "duration": 64,
    "start_time": "2024-02-28T18:50:16.189Z"
   },
   {
    "duration": 102,
    "start_time": "2024-02-28T18:50:16.406Z"
   },
   {
    "duration": 30,
    "start_time": "2024-02-28T18:50:16.646Z"
   },
   {
    "duration": 9,
    "start_time": "2024-02-28T18:50:16.861Z"
   },
   {
    "duration": 4,
    "start_time": "2024-02-28T18:50:17.100Z"
   },
   {
    "duration": 4,
    "start_time": "2024-02-28T18:50:17.373Z"
   },
   {
    "duration": 10,
    "start_time": "2024-02-28T18:50:17.813Z"
   },
   {
    "duration": 7,
    "start_time": "2024-02-28T18:50:18.501Z"
   },
   {
    "duration": 8,
    "start_time": "2024-02-28T18:50:19.079Z"
   },
   {
    "duration": 13,
    "start_time": "2024-02-28T18:50:20.236Z"
   },
   {
    "duration": 9,
    "start_time": "2024-02-28T18:50:20.781Z"
   },
   {
    "duration": 227,
    "start_time": "2024-02-28T18:55:58.268Z"
   },
   {
    "duration": 125,
    "start_time": "2024-02-28T18:56:34.859Z"
   },
   {
    "duration": 105,
    "start_time": "2024-02-28T18:58:43.270Z"
   },
   {
    "duration": 12,
    "start_time": "2024-02-28T18:58:50.437Z"
   },
   {
    "duration": 4,
    "start_time": "2024-02-28T18:59:03.563Z"
   },
   {
    "duration": 291,
    "start_time": "2024-02-28T18:59:08.210Z"
   },
   {
    "duration": 1208,
    "start_time": "2024-02-28T19:00:16.979Z"
   },
   {
    "duration": 1345,
    "start_time": "2024-02-28T19:00:36.324Z"
   },
   {
    "duration": 117,
    "start_time": "2024-02-28T19:00:44.774Z"
   },
   {
    "duration": 493,
    "start_time": "2024-02-28T19:00:54.618Z"
   },
   {
    "duration": 506,
    "start_time": "2024-02-28T19:01:02.453Z"
   },
   {
    "duration": 104,
    "start_time": "2024-02-28T19:02:09.100Z"
   },
   {
    "duration": 346,
    "start_time": "2024-02-28T19:02:11.163Z"
   },
   {
    "duration": 199,
    "start_time": "2024-02-28T19:04:06.946Z"
   },
   {
    "duration": 359,
    "start_time": "2024-02-28T19:04:17.722Z"
   },
   {
    "duration": 112,
    "start_time": "2024-02-28T19:04:45.481Z"
   },
   {
    "duration": 127,
    "start_time": "2024-02-28T19:09:53.109Z"
   },
   {
    "duration": 279,
    "start_time": "2024-02-28T19:10:01.436Z"
   },
   {
    "duration": 292,
    "start_time": "2024-02-28T19:10:11.502Z"
   },
   {
    "duration": 230,
    "start_time": "2024-02-28T19:10:30.173Z"
   },
   {
    "duration": 1411,
    "start_time": "2024-02-28T19:13:15.197Z"
   },
   {
    "duration": 95,
    "start_time": "2024-02-28T19:13:16.610Z"
   },
   {
    "duration": 34,
    "start_time": "2024-02-28T19:13:16.706Z"
   },
   {
    "duration": 20,
    "start_time": "2024-02-28T19:13:16.742Z"
   },
   {
    "duration": 3,
    "start_time": "2024-02-28T19:13:16.763Z"
   },
   {
    "duration": 38,
    "start_time": "2024-02-28T19:13:16.767Z"
   },
   {
    "duration": 146,
    "start_time": "2024-02-28T19:13:16.807Z"
   },
   {
    "duration": 13,
    "start_time": "2024-02-28T19:13:16.955Z"
   },
   {
    "duration": 4,
    "start_time": "2024-02-28T19:13:16.970Z"
   },
   {
    "duration": 15,
    "start_time": "2024-02-28T19:13:16.977Z"
   },
   {
    "duration": 35,
    "start_time": "2024-02-28T19:13:16.994Z"
   },
   {
    "duration": 19,
    "start_time": "2024-02-28T19:13:17.032Z"
   },
   {
    "duration": 20,
    "start_time": "2024-02-28T19:13:17.053Z"
   },
   {
    "duration": 598,
    "start_time": "2024-02-28T19:13:17.075Z"
   },
   {
    "duration": 299,
    "start_time": "2024-02-28T19:13:17.675Z"
   },
   {
    "duration": 7,
    "start_time": "2024-02-28T19:13:17.975Z"
   },
   {
    "duration": 13,
    "start_time": "2024-02-28T19:13:17.983Z"
   },
   {
    "duration": 27,
    "start_time": "2024-02-28T19:13:17.997Z"
   },
   {
    "duration": 37,
    "start_time": "2024-02-28T19:13:18.026Z"
   },
   {
    "duration": 90,
    "start_time": "2024-02-28T19:13:18.065Z"
   },
   {
    "duration": 6,
    "start_time": "2024-02-28T19:13:18.157Z"
   },
   {
    "duration": 8,
    "start_time": "2024-02-28T19:13:18.164Z"
   },
   {
    "duration": 286,
    "start_time": "2024-02-28T19:13:18.173Z"
   },
   {
    "duration": 9,
    "start_time": "2024-02-28T19:13:18.460Z"
   },
   {
    "duration": 5,
    "start_time": "2024-02-28T19:13:18.470Z"
   },
   {
    "duration": 24,
    "start_time": "2024-02-28T19:13:18.477Z"
   },
   {
    "duration": 22,
    "start_time": "2024-02-28T19:13:18.502Z"
   },
   {
    "duration": 15,
    "start_time": "2024-02-28T19:13:18.530Z"
   },
   {
    "duration": 8,
    "start_time": "2024-02-28T19:13:18.547Z"
   },
   {
    "duration": 70,
    "start_time": "2024-02-28T19:13:18.557Z"
   },
   {
    "duration": 96,
    "start_time": "2024-02-28T19:13:18.629Z"
   },
   {
    "duration": 35,
    "start_time": "2024-02-28T19:13:18.727Z"
   },
   {
    "duration": 9,
    "start_time": "2024-02-28T19:13:18.764Z"
   },
   {
    "duration": 12,
    "start_time": "2024-02-28T19:13:18.775Z"
   },
   {
    "duration": 9,
    "start_time": "2024-02-28T19:13:18.788Z"
   },
   {
    "duration": 20,
    "start_time": "2024-02-28T19:13:18.798Z"
   },
   {
    "duration": 9,
    "start_time": "2024-02-28T19:13:18.820Z"
   },
   {
    "duration": 12,
    "start_time": "2024-02-28T19:13:18.832Z"
   },
   {
    "duration": 11,
    "start_time": "2024-02-28T19:13:18.845Z"
   },
   {
    "duration": 8,
    "start_time": "2024-02-28T19:13:18.858Z"
   },
   {
    "duration": 1473,
    "start_time": "2024-02-28T19:26:23.938Z"
   },
   {
    "duration": 89,
    "start_time": "2024-02-28T19:26:25.414Z"
   },
   {
    "duration": 28,
    "start_time": "2024-02-28T19:26:25.505Z"
   },
   {
    "duration": 24,
    "start_time": "2024-02-28T19:26:25.535Z"
   },
   {
    "duration": 4,
    "start_time": "2024-02-28T19:26:25.564Z"
   },
   {
    "duration": 10,
    "start_time": "2024-02-28T19:26:25.570Z"
   },
   {
    "duration": 185,
    "start_time": "2024-02-28T19:26:25.582Z"
   },
   {
    "duration": 15,
    "start_time": "2024-02-28T19:26:25.769Z"
   },
   {
    "duration": 16,
    "start_time": "2024-02-28T19:26:25.786Z"
   },
   {
    "duration": 26,
    "start_time": "2024-02-28T19:26:25.804Z"
   },
   {
    "duration": 15,
    "start_time": "2024-02-28T19:26:25.831Z"
   },
   {
    "duration": 41,
    "start_time": "2024-02-28T19:26:25.848Z"
   },
   {
    "duration": 64,
    "start_time": "2024-02-28T19:26:25.891Z"
   },
   {
    "duration": 588,
    "start_time": "2024-02-28T19:26:25.959Z"
   },
   {
    "duration": 262,
    "start_time": "2024-02-28T19:26:26.549Z"
   },
   {
    "duration": 16,
    "start_time": "2024-02-28T19:26:26.812Z"
   },
   {
    "duration": 13,
    "start_time": "2024-02-28T19:26:26.830Z"
   },
   {
    "duration": 16,
    "start_time": "2024-02-28T19:26:26.844Z"
   },
   {
    "duration": 32,
    "start_time": "2024-02-28T19:26:26.861Z"
   },
   {
    "duration": 89,
    "start_time": "2024-02-28T19:26:26.895Z"
   },
   {
    "duration": 6,
    "start_time": "2024-02-28T19:26:26.986Z"
   },
   {
    "duration": 17,
    "start_time": "2024-02-28T19:26:26.994Z"
   },
   {
    "duration": 273,
    "start_time": "2024-02-28T19:26:27.013Z"
   },
   {
    "duration": 9,
    "start_time": "2024-02-28T19:26:27.288Z"
   },
   {
    "duration": 11,
    "start_time": "2024-02-28T19:26:27.299Z"
   },
   {
    "duration": 19,
    "start_time": "2024-02-28T19:26:27.311Z"
   },
   {
    "duration": 8,
    "start_time": "2024-02-28T19:26:27.331Z"
   },
   {
    "duration": 12,
    "start_time": "2024-02-28T19:26:27.341Z"
   },
   {
    "duration": 37,
    "start_time": "2024-02-28T19:26:27.355Z"
   },
   {
    "duration": 57,
    "start_time": "2024-02-28T19:26:27.394Z"
   },
   {
    "duration": 106,
    "start_time": "2024-02-28T19:26:27.453Z"
   },
   {
    "duration": 31,
    "start_time": "2024-02-28T19:26:27.561Z"
   },
   {
    "duration": 29,
    "start_time": "2024-02-28T19:26:27.594Z"
   },
   {
    "duration": 6,
    "start_time": "2024-02-28T19:26:27.625Z"
   },
   {
    "duration": 6,
    "start_time": "2024-02-28T19:26:27.633Z"
   },
   {
    "duration": 8,
    "start_time": "2024-02-28T19:26:27.641Z"
   },
   {
    "duration": 7,
    "start_time": "2024-02-28T19:26:27.650Z"
   },
   {
    "duration": 21,
    "start_time": "2024-02-28T19:26:27.659Z"
   },
   {
    "duration": 10,
    "start_time": "2024-02-28T19:26:27.682Z"
   },
   {
    "duration": 36,
    "start_time": "2024-02-28T19:26:27.693Z"
   },
   {
    "duration": 46,
    "start_time": "2024-02-28T21:46:17.187Z"
   },
   {
    "duration": 1593,
    "start_time": "2024-02-28T21:46:27.333Z"
   },
   {
    "duration": 69,
    "start_time": "2024-02-28T21:46:28.928Z"
   },
   {
    "duration": 12,
    "start_time": "2024-02-28T21:46:28.998Z"
   },
   {
    "duration": 51,
    "start_time": "2024-02-28T21:46:29.012Z"
   },
   {
    "duration": 6,
    "start_time": "2024-02-28T21:46:29.064Z"
   },
   {
    "duration": 22,
    "start_time": "2024-02-28T21:46:29.071Z"
   },
   {
    "duration": 151,
    "start_time": "2024-02-28T21:46:29.094Z"
   },
   {
    "duration": 12,
    "start_time": "2024-02-28T21:46:29.246Z"
   },
   {
    "duration": 4,
    "start_time": "2024-02-28T21:46:29.260Z"
   },
   {
    "duration": 14,
    "start_time": "2024-02-28T21:46:29.266Z"
   },
   {
    "duration": 24,
    "start_time": "2024-02-28T21:46:29.282Z"
   },
   {
    "duration": 19,
    "start_time": "2024-02-28T21:46:29.307Z"
   },
   {
    "duration": 27,
    "start_time": "2024-02-28T21:46:29.327Z"
   },
   {
    "duration": 456,
    "start_time": "2024-02-28T21:46:29.355Z"
   },
   {
    "duration": 191,
    "start_time": "2024-02-28T21:46:29.812Z"
   },
   {
    "duration": 6,
    "start_time": "2024-02-28T21:46:30.005Z"
   },
   {
    "duration": 47,
    "start_time": "2024-02-28T21:46:30.012Z"
   },
   {
    "duration": 49,
    "start_time": "2024-02-28T21:46:30.060Z"
   },
   {
    "duration": 57,
    "start_time": "2024-02-28T21:46:30.111Z"
   },
   {
    "duration": 95,
    "start_time": "2024-02-28T21:46:30.169Z"
   },
   {
    "duration": 12,
    "start_time": "2024-02-28T21:46:30.266Z"
   },
   {
    "duration": 63,
    "start_time": "2024-02-28T21:46:30.279Z"
   },
   {
    "duration": 272,
    "start_time": "2024-02-28T21:46:30.344Z"
   },
   {
    "duration": 7,
    "start_time": "2024-02-28T21:46:30.617Z"
   },
   {
    "duration": 104,
    "start_time": "2024-02-28T21:46:30.626Z"
   },
   {
    "duration": 53,
    "start_time": "2024-02-28T21:46:30.732Z"
   },
   {
    "duration": 44,
    "start_time": "2024-02-28T21:46:30.786Z"
   },
   {
    "duration": 48,
    "start_time": "2024-02-28T21:46:30.833Z"
   },
   {
    "duration": 32,
    "start_time": "2024-02-28T21:46:30.882Z"
   },
   {
    "duration": 83,
    "start_time": "2024-02-28T21:46:30.916Z"
   },
   {
    "duration": 28,
    "start_time": "2024-02-28T21:46:31.000Z"
   },
   {
    "duration": 159,
    "start_time": "2024-02-28T21:46:31.029Z"
   },
   {
    "duration": 0,
    "start_time": "2024-02-28T21:46:31.189Z"
   },
   {
    "duration": 0,
    "start_time": "2024-02-28T21:46:31.190Z"
   },
   {
    "duration": 0,
    "start_time": "2024-02-28T21:46:31.191Z"
   },
   {
    "duration": 0,
    "start_time": "2024-02-28T21:46:31.201Z"
   },
   {
    "duration": 0,
    "start_time": "2024-02-28T21:46:31.202Z"
   },
   {
    "duration": 0,
    "start_time": "2024-02-28T21:46:31.203Z"
   },
   {
    "duration": 0,
    "start_time": "2024-02-28T21:46:31.203Z"
   },
   {
    "duration": 0,
    "start_time": "2024-02-28T21:46:31.204Z"
   },
   {
    "duration": 0,
    "start_time": "2024-02-28T21:46:31.205Z"
   },
   {
    "duration": 0,
    "start_time": "2024-02-28T21:46:31.206Z"
   },
   {
    "duration": 4,
    "start_time": "2024-02-28T21:48:04.613Z"
   },
   {
    "duration": 5,
    "start_time": "2024-02-28T21:49:08.561Z"
   },
   {
    "duration": 4,
    "start_time": "2024-02-28T21:49:14.249Z"
   },
   {
    "duration": 3,
    "start_time": "2024-02-28T21:49:43.672Z"
   },
   {
    "duration": 7,
    "start_time": "2024-02-28T21:50:14.049Z"
   },
   {
    "duration": 4,
    "start_time": "2024-02-28T21:50:22.355Z"
   },
   {
    "duration": 4,
    "start_time": "2024-02-28T21:50:49.736Z"
   },
   {
    "duration": 4,
    "start_time": "2024-02-28T21:51:11.981Z"
   },
   {
    "duration": 1149,
    "start_time": "2024-02-28T21:52:55.636Z"
   },
   {
    "duration": 70,
    "start_time": "2024-02-28T21:52:56.787Z"
   },
   {
    "duration": 11,
    "start_time": "2024-02-28T21:52:56.859Z"
   },
   {
    "duration": 35,
    "start_time": "2024-02-28T21:52:56.872Z"
   },
   {
    "duration": 3,
    "start_time": "2024-02-28T21:52:56.908Z"
   },
   {
    "duration": 7,
    "start_time": "2024-02-28T21:52:56.912Z"
   },
   {
    "duration": 125,
    "start_time": "2024-02-28T21:52:56.920Z"
   },
   {
    "duration": 11,
    "start_time": "2024-02-28T21:52:57.046Z"
   },
   {
    "duration": 16,
    "start_time": "2024-02-28T21:52:57.058Z"
   },
   {
    "duration": 25,
    "start_time": "2024-02-28T21:52:57.076Z"
   },
   {
    "duration": 11,
    "start_time": "2024-02-28T21:52:57.102Z"
   },
   {
    "duration": 21,
    "start_time": "2024-02-28T21:52:57.114Z"
   },
   {
    "duration": 20,
    "start_time": "2024-02-28T21:52:57.136Z"
   },
   {
    "duration": 493,
    "start_time": "2024-02-28T21:52:57.157Z"
   },
   {
    "duration": 189,
    "start_time": "2024-02-28T21:52:57.651Z"
   },
   {
    "duration": 6,
    "start_time": "2024-02-28T21:52:57.842Z"
   },
   {
    "duration": 15,
    "start_time": "2024-02-28T21:52:57.850Z"
   },
   {
    "duration": 14,
    "start_time": "2024-02-28T21:52:57.866Z"
   },
   {
    "duration": 24,
    "start_time": "2024-02-28T21:52:57.881Z"
   },
   {
    "duration": 55,
    "start_time": "2024-02-28T21:52:57.906Z"
   },
   {
    "duration": 6,
    "start_time": "2024-02-28T21:52:57.963Z"
   },
   {
    "duration": 9,
    "start_time": "2024-02-28T21:52:57.970Z"
   },
   {
    "duration": 223,
    "start_time": "2024-02-28T21:52:57.980Z"
   },
   {
    "duration": 7,
    "start_time": "2024-02-28T21:52:58.205Z"
   },
   {
    "duration": 4,
    "start_time": "2024-02-28T21:52:58.213Z"
   },
   {
    "duration": 7,
    "start_time": "2024-02-28T21:52:58.218Z"
   },
   {
    "duration": 4,
    "start_time": "2024-02-28T21:52:58.226Z"
   },
   {
    "duration": 5,
    "start_time": "2024-02-28T21:52:58.233Z"
   },
   {
    "duration": 9,
    "start_time": "2024-02-28T21:52:58.239Z"
   },
   {
    "duration": 71,
    "start_time": "2024-02-28T21:52:58.249Z"
   },
   {
    "duration": 26,
    "start_time": "2024-02-28T21:52:58.322Z"
   },
   {
    "duration": 4,
    "start_time": "2024-02-28T21:52:58.349Z"
   },
   {
    "duration": 15,
    "start_time": "2024-02-28T21:52:58.353Z"
   },
   {
    "duration": 19,
    "start_time": "2024-02-28T21:52:58.370Z"
   },
   {
    "duration": 72,
    "start_time": "2024-02-28T21:52:58.391Z"
   },
   {
    "duration": 26,
    "start_time": "2024-02-28T21:52:58.465Z"
   },
   {
    "duration": 15,
    "start_time": "2024-02-28T21:52:58.492Z"
   },
   {
    "duration": 11,
    "start_time": "2024-02-28T21:52:58.508Z"
   },
   {
    "duration": 3,
    "start_time": "2024-02-28T21:52:58.521Z"
   },
   {
    "duration": 4,
    "start_time": "2024-02-28T21:52:58.525Z"
   },
   {
    "duration": 4,
    "start_time": "2024-02-28T21:52:58.531Z"
   },
   {
    "duration": 10,
    "start_time": "2024-02-28T21:52:58.536Z"
   },
   {
    "duration": 8,
    "start_time": "2024-02-28T21:52:58.547Z"
   },
   {
    "duration": 10,
    "start_time": "2024-02-28T21:52:58.556Z"
   },
   {
    "duration": 93,
    "start_time": "2024-02-28T22:53:11.579Z"
   },
   {
    "duration": 12,
    "start_time": "2024-02-28T22:53:50.910Z"
   },
   {
    "duration": 1534,
    "start_time": "2024-02-28T22:54:37.937Z"
   },
   {
    "duration": 1165,
    "start_time": "2024-02-28T22:55:44.729Z"
   },
   {
    "duration": 70,
    "start_time": "2024-02-28T22:55:45.895Z"
   },
   {
    "duration": 12,
    "start_time": "2024-02-28T22:55:45.967Z"
   },
   {
    "duration": 40,
    "start_time": "2024-02-28T22:55:45.981Z"
   },
   {
    "duration": 8,
    "start_time": "2024-02-28T22:55:46.023Z"
   },
   {
    "duration": 44,
    "start_time": "2024-02-28T22:55:46.033Z"
   },
   {
    "duration": 129,
    "start_time": "2024-02-28T22:55:46.078Z"
   },
   {
    "duration": 11,
    "start_time": "2024-02-28T22:55:46.209Z"
   },
   {
    "duration": 11,
    "start_time": "2024-02-28T22:55:46.221Z"
   },
   {
    "duration": 10,
    "start_time": "2024-02-28T22:55:46.235Z"
   },
   {
    "duration": 6,
    "start_time": "2024-02-28T22:55:46.246Z"
   },
   {
    "duration": 18,
    "start_time": "2024-02-28T22:55:46.253Z"
   },
   {
    "duration": 21,
    "start_time": "2024-02-28T22:55:46.272Z"
   },
   {
    "duration": 482,
    "start_time": "2024-02-28T22:55:46.294Z"
   },
   {
    "duration": 181,
    "start_time": "2024-02-28T22:55:46.778Z"
   },
   {
    "duration": 6,
    "start_time": "2024-02-28T22:55:46.961Z"
   },
   {
    "duration": 13,
    "start_time": "2024-02-28T22:55:46.968Z"
   },
   {
    "duration": 21,
    "start_time": "2024-02-28T22:55:46.982Z"
   },
   {
    "duration": 24,
    "start_time": "2024-02-28T22:55:47.004Z"
   },
   {
    "duration": 61,
    "start_time": "2024-02-28T22:55:47.029Z"
   },
   {
    "duration": 12,
    "start_time": "2024-02-28T22:55:47.091Z"
   },
   {
    "duration": 6,
    "start_time": "2024-02-28T22:55:47.104Z"
   },
   {
    "duration": 228,
    "start_time": "2024-02-28T22:55:47.111Z"
   },
   {
    "duration": 7,
    "start_time": "2024-02-28T22:55:47.341Z"
   },
   {
    "duration": 10,
    "start_time": "2024-02-28T22:55:47.349Z"
   },
   {
    "duration": 19,
    "start_time": "2024-02-28T22:55:47.360Z"
   },
   {
    "duration": 6,
    "start_time": "2024-02-28T22:55:47.380Z"
   },
   {
    "duration": 12,
    "start_time": "2024-02-28T22:55:47.388Z"
   },
   {
    "duration": 5,
    "start_time": "2024-02-28T22:55:47.401Z"
   },
   {
    "duration": 1500,
    "start_time": "2024-02-28T22:55:47.407Z"
   },
   {
    "duration": 36,
    "start_time": "2024-02-28T22:55:48.908Z"
   },
   {
    "duration": 22,
    "start_time": "2024-02-28T22:55:48.945Z"
   },
   {
    "duration": 4,
    "start_time": "2024-02-28T22:55:48.968Z"
   },
   {
    "duration": 8,
    "start_time": "2024-02-28T22:55:48.973Z"
   },
   {
    "duration": 22,
    "start_time": "2024-02-28T22:55:48.982Z"
   },
   {
    "duration": 86,
    "start_time": "2024-02-28T22:55:49.005Z"
   },
   {
    "duration": 28,
    "start_time": "2024-02-28T22:55:49.092Z"
   },
   {
    "duration": 55,
    "start_time": "2024-02-28T22:55:49.121Z"
   },
   {
    "duration": 31,
    "start_time": "2024-02-28T22:55:49.177Z"
   },
   {
    "duration": 26,
    "start_time": "2024-02-28T22:55:49.209Z"
   },
   {
    "duration": 15,
    "start_time": "2024-02-28T22:55:49.237Z"
   },
   {
    "duration": 7,
    "start_time": "2024-02-28T22:55:49.253Z"
   },
   {
    "duration": 16,
    "start_time": "2024-02-28T22:55:49.261Z"
   },
   {
    "duration": 8,
    "start_time": "2024-02-28T22:55:49.278Z"
   },
   {
    "duration": 24,
    "start_time": "2024-02-28T22:55:49.287Z"
   },
   {
    "duration": 92,
    "start_time": "2024-02-28T23:05:13.009Z"
   },
   {
    "duration": 1508,
    "start_time": "2024-02-28T23:05:21.404Z"
   },
   {
    "duration": 4,
    "start_time": "2024-02-28T23:06:31.662Z"
   },
   {
    "duration": 17,
    "start_time": "2024-02-28T23:06:49.953Z"
   },
   {
    "duration": 1513,
    "start_time": "2024-02-28T23:08:01.664Z"
   },
   {
    "duration": 1556,
    "start_time": "2024-02-28T23:08:48.567Z"
   },
   {
    "duration": 1518,
    "start_time": "2024-02-28T23:09:38.458Z"
   },
   {
    "duration": 3,
    "start_time": "2024-02-28T23:16:06.150Z"
   },
   {
    "duration": 84,
    "start_time": "2024-02-28T23:16:28.335Z"
   },
   {
    "duration": 4,
    "start_time": "2024-02-28T23:16:34.421Z"
   },
   {
    "duration": 3,
    "start_time": "2024-02-28T23:16:53.688Z"
   },
   {
    "duration": 2023,
    "start_time": "2024-02-29T11:32:59.298Z"
   },
   {
    "duration": 84,
    "start_time": "2024-02-29T11:33:01.323Z"
   },
   {
    "duration": 15,
    "start_time": "2024-02-29T11:33:01.415Z"
   },
   {
    "duration": 79,
    "start_time": "2024-02-29T11:33:01.432Z"
   },
   {
    "duration": 83,
    "start_time": "2024-02-29T11:33:01.513Z"
   },
   {
    "duration": 80,
    "start_time": "2024-02-29T11:33:01.598Z"
   },
   {
    "duration": 261,
    "start_time": "2024-02-29T11:33:01.680Z"
   },
   {
    "duration": 14,
    "start_time": "2024-02-29T11:33:01.943Z"
   },
   {
    "duration": 52,
    "start_time": "2024-02-29T11:33:01.959Z"
   },
   {
    "duration": 76,
    "start_time": "2024-02-29T11:33:02.014Z"
   },
   {
    "duration": 30,
    "start_time": "2024-02-29T11:33:02.092Z"
   },
   {
    "duration": 32,
    "start_time": "2024-02-29T11:33:02.124Z"
   },
   {
    "duration": 44,
    "start_time": "2024-02-29T11:33:02.158Z"
   },
   {
    "duration": 580,
    "start_time": "2024-02-29T11:33:02.203Z"
   },
   {
    "duration": 241,
    "start_time": "2024-02-29T11:33:02.785Z"
   },
   {
    "duration": 7,
    "start_time": "2024-02-29T11:33:03.028Z"
   },
   {
    "duration": 4,
    "start_time": "2024-02-29T11:33:03.037Z"
   },
   {
    "duration": 18,
    "start_time": "2024-02-29T11:33:03.042Z"
   },
   {
    "duration": 8,
    "start_time": "2024-02-29T11:33:03.062Z"
   },
   {
    "duration": 59,
    "start_time": "2024-02-29T11:33:03.071Z"
   },
   {
    "duration": 67,
    "start_time": "2024-02-29T11:33:03.132Z"
   },
   {
    "duration": 18,
    "start_time": "2024-02-29T11:33:03.201Z"
   },
   {
    "duration": 9,
    "start_time": "2024-02-29T11:33:03.220Z"
   },
   {
    "duration": 274,
    "start_time": "2024-02-29T11:33:03.231Z"
   },
   {
    "duration": 254,
    "start_time": "2024-02-29T11:33:03.507Z"
   },
   {
    "duration": 9,
    "start_time": "2024-02-29T11:33:03.763Z"
   },
   {
    "duration": 6,
    "start_time": "2024-02-29T11:33:03.774Z"
   },
   {
    "duration": 7,
    "start_time": "2024-02-29T11:33:03.784Z"
   },
   {
    "duration": 5,
    "start_time": "2024-02-29T11:33:03.814Z"
   },
   {
    "duration": 18,
    "start_time": "2024-02-29T11:33:03.821Z"
   },
   {
    "duration": 9,
    "start_time": "2024-02-29T11:33:03.841Z"
   },
   {
    "duration": 1926,
    "start_time": "2024-02-29T11:33:03.852Z"
   },
   {
    "duration": 67,
    "start_time": "2024-02-29T11:33:05.779Z"
   },
   {
    "duration": 29,
    "start_time": "2024-02-29T11:33:05.848Z"
   },
   {
    "duration": 6,
    "start_time": "2024-02-29T11:33:05.879Z"
   },
   {
    "duration": 5,
    "start_time": "2024-02-29T11:33:05.886Z"
   },
   {
    "duration": 25,
    "start_time": "2024-02-29T11:33:05.892Z"
   },
   {
    "duration": 74,
    "start_time": "2024-02-29T11:33:05.919Z"
   },
   {
    "duration": 46,
    "start_time": "2024-02-29T11:33:05.994Z"
   },
   {
    "duration": 10,
    "start_time": "2024-02-29T11:33:06.042Z"
   },
   {
    "duration": 5,
    "start_time": "2024-02-29T11:33:06.054Z"
   },
   {
    "duration": 11,
    "start_time": "2024-02-29T11:33:06.060Z"
   },
   {
    "duration": 7,
    "start_time": "2024-02-29T11:33:06.073Z"
   },
   {
    "duration": 35,
    "start_time": "2024-02-29T11:33:06.082Z"
   },
   {
    "duration": 12,
    "start_time": "2024-02-29T11:33:06.118Z"
   },
   {
    "duration": 19,
    "start_time": "2024-02-29T11:33:06.132Z"
   },
   {
    "duration": 15,
    "start_time": "2024-02-29T11:33:06.153Z"
   },
   {
    "duration": 177,
    "start_time": "2024-02-29T11:33:17.327Z"
   },
   {
    "duration": 192,
    "start_time": "2024-02-29T11:35:04.154Z"
   },
   {
    "duration": 5,
    "start_time": "2024-02-29T11:36:08.175Z"
   },
   {
    "duration": 3,
    "start_time": "2024-02-29T11:36:48.715Z"
   },
   {
    "duration": 4,
    "start_time": "2024-02-29T11:36:54.048Z"
   },
   {
    "duration": 5,
    "start_time": "2024-02-29T11:38:20.797Z"
   },
   {
    "duration": 5,
    "start_time": "2024-02-29T11:38:27.962Z"
   },
   {
    "duration": 4,
    "start_time": "2024-02-29T11:38:30.324Z"
   },
   {
    "duration": 79,
    "start_time": "2024-02-29T11:39:23.324Z"
   },
   {
    "duration": 5,
    "start_time": "2024-02-29T11:39:31.491Z"
   },
   {
    "duration": 9,
    "start_time": "2024-02-29T11:40:49.548Z"
   },
   {
    "duration": 75,
    "start_time": "2024-02-29T11:45:59.310Z"
   },
   {
    "duration": 6,
    "start_time": "2024-02-29T11:46:04.941Z"
   },
   {
    "duration": 4,
    "start_time": "2024-02-29T11:48:11.403Z"
   },
   {
    "duration": 3,
    "start_time": "2024-02-29T11:48:22.618Z"
   },
   {
    "duration": 3,
    "start_time": "2024-02-29T11:48:36.724Z"
   },
   {
    "duration": 4,
    "start_time": "2024-02-29T11:49:00.282Z"
   },
   {
    "duration": 4,
    "start_time": "2024-02-29T11:49:51.030Z"
   },
   {
    "duration": 4,
    "start_time": "2024-02-29T11:50:13.587Z"
   },
   {
    "duration": 4,
    "start_time": "2024-02-29T11:50:19.512Z"
   },
   {
    "duration": 4,
    "start_time": "2024-02-29T11:50:41.393Z"
   },
   {
    "duration": 5,
    "start_time": "2024-02-29T11:52:02.091Z"
   },
   {
    "duration": 9,
    "start_time": "2024-02-29T11:52:23.461Z"
   },
   {
    "duration": 10,
    "start_time": "2024-02-29T11:52:44.548Z"
   },
   {
    "duration": 9,
    "start_time": "2024-02-29T11:52:52.008Z"
   },
   {
    "duration": 1429,
    "start_time": "2024-02-29T11:53:31.488Z"
   },
   {
    "duration": 81,
    "start_time": "2024-02-29T11:53:32.919Z"
   },
   {
    "duration": 25,
    "start_time": "2024-02-29T11:53:33.002Z"
   },
   {
    "duration": 25,
    "start_time": "2024-02-29T11:53:33.028Z"
   },
   {
    "duration": 2,
    "start_time": "2024-02-29T11:53:33.055Z"
   },
   {
    "duration": 23,
    "start_time": "2024-02-29T11:53:33.059Z"
   },
   {
    "duration": 155,
    "start_time": "2024-02-29T11:53:33.083Z"
   },
   {
    "duration": 13,
    "start_time": "2024-02-29T11:53:33.240Z"
   },
   {
    "duration": 4,
    "start_time": "2024-02-29T11:53:33.255Z"
   },
   {
    "duration": 16,
    "start_time": "2024-02-29T11:53:33.262Z"
   },
   {
    "duration": 7,
    "start_time": "2024-02-29T11:53:33.279Z"
   },
   {
    "duration": 41,
    "start_time": "2024-02-29T11:53:33.288Z"
   },
   {
    "duration": 30,
    "start_time": "2024-02-29T11:53:33.331Z"
   },
   {
    "duration": 550,
    "start_time": "2024-02-29T11:53:33.362Z"
   },
   {
    "duration": 247,
    "start_time": "2024-02-29T11:53:33.914Z"
   },
   {
    "duration": 7,
    "start_time": "2024-02-29T11:53:34.162Z"
   },
   {
    "duration": 5,
    "start_time": "2024-02-29T11:53:34.171Z"
   },
   {
    "duration": 3,
    "start_time": "2024-02-29T11:53:34.178Z"
   },
   {
    "duration": 5,
    "start_time": "2024-02-29T11:53:34.183Z"
   },
   {
    "duration": 9,
    "start_time": "2024-02-29T11:53:34.189Z"
   },
   {
    "duration": 22,
    "start_time": "2024-02-29T11:53:34.200Z"
   },
   {
    "duration": 18,
    "start_time": "2024-02-29T11:53:34.224Z"
   },
   {
    "duration": 29,
    "start_time": "2024-02-29T11:53:34.244Z"
   },
   {
    "duration": 68,
    "start_time": "2024-02-29T11:53:34.275Z"
   },
   {
    "duration": 6,
    "start_time": "2024-02-29T11:53:34.344Z"
   },
   {
    "duration": 6,
    "start_time": "2024-02-29T11:53:34.352Z"
   },
   {
    "duration": 374,
    "start_time": "2024-02-29T11:53:34.360Z"
   },
   {
    "duration": 202,
    "start_time": "2024-02-29T11:53:34.737Z"
   },
   {
    "duration": 8,
    "start_time": "2024-02-29T11:53:34.941Z"
   },
   {
    "duration": 20,
    "start_time": "2024-02-29T11:53:34.951Z"
   },
   {
    "duration": 22,
    "start_time": "2024-02-29T11:53:34.972Z"
   },
   {
    "duration": 20,
    "start_time": "2024-02-29T11:53:34.995Z"
   },
   {
    "duration": 8,
    "start_time": "2024-02-29T11:53:35.017Z"
   },
   {
    "duration": 15,
    "start_time": "2024-02-29T11:53:35.027Z"
   },
   {
    "duration": 54,
    "start_time": "2024-02-29T11:53:35.043Z"
   },
   {
    "duration": 35,
    "start_time": "2024-02-29T11:53:35.098Z"
   },
   {
    "duration": 4,
    "start_time": "2024-02-29T11:53:35.135Z"
   },
   {
    "duration": 8,
    "start_time": "2024-02-29T11:53:35.140Z"
   },
   {
    "duration": 13,
    "start_time": "2024-02-29T11:53:35.150Z"
   },
   {
    "duration": 92,
    "start_time": "2024-02-29T11:53:35.165Z"
   },
   {
    "duration": 29,
    "start_time": "2024-02-29T11:53:35.258Z"
   },
   {
    "duration": 10,
    "start_time": "2024-02-29T11:53:35.289Z"
   },
   {
    "duration": 5,
    "start_time": "2024-02-29T11:53:35.315Z"
   },
   {
    "duration": 4,
    "start_time": "2024-02-29T11:53:35.321Z"
   },
   {
    "duration": 11,
    "start_time": "2024-02-29T11:53:35.327Z"
   },
   {
    "duration": 5,
    "start_time": "2024-02-29T11:53:35.339Z"
   },
   {
    "duration": 20,
    "start_time": "2024-02-29T11:53:35.346Z"
   },
   {
    "duration": 6,
    "start_time": "2024-02-29T11:53:35.367Z"
   },
   {
    "duration": 12,
    "start_time": "2024-02-29T11:53:35.375Z"
   },
   {
    "duration": 9,
    "start_time": "2024-02-29T11:53:35.388Z"
   },
   {
    "duration": 9,
    "start_time": "2024-02-29T11:53:35.415Z"
   },
   {
    "duration": 11,
    "start_time": "2024-02-29T11:53:35.426Z"
   },
   {
    "duration": 58,
    "start_time": "2024-02-29T11:55:51.404Z"
   },
   {
    "duration": 7,
    "start_time": "2024-02-29T11:55:59.748Z"
   },
   {
    "duration": 58,
    "start_time": "2024-02-29T11:56:34.049Z"
   },
   {
    "duration": 87,
    "start_time": "2024-02-29T11:56:46.786Z"
   },
   {
    "duration": 60,
    "start_time": "2024-02-29T11:56:51.938Z"
   },
   {
    "duration": 1402,
    "start_time": "2024-02-29T11:57:32.119Z"
   },
   {
    "duration": 80,
    "start_time": "2024-02-29T11:57:33.524Z"
   },
   {
    "duration": 74,
    "start_time": "2024-02-29T11:57:33.606Z"
   },
   {
    "duration": 17,
    "start_time": "2024-02-29T11:57:33.682Z"
   },
   {
    "duration": 21,
    "start_time": "2024-02-29T11:57:33.714Z"
   },
   {
    "duration": 18,
    "start_time": "2024-02-29T11:57:33.736Z"
   },
   {
    "duration": 10,
    "start_time": "2024-02-29T11:57:33.755Z"
   },
   {
    "duration": 98,
    "start_time": "2024-02-29T11:57:33.767Z"
   },
   {
    "duration": 15,
    "start_time": "2024-02-29T11:57:33.867Z"
   },
   {
    "duration": 5,
    "start_time": "2024-02-29T11:57:33.885Z"
   },
   {
    "duration": 24,
    "start_time": "2024-02-29T11:57:33.891Z"
   },
   {
    "duration": 11,
    "start_time": "2024-02-29T11:57:33.917Z"
   },
   {
    "duration": 22,
    "start_time": "2024-02-29T11:57:33.930Z"
   },
   {
    "duration": 29,
    "start_time": "2024-02-29T11:57:33.954Z"
   },
   {
    "duration": 616,
    "start_time": "2024-02-29T11:57:33.985Z"
   },
   {
    "duration": 341,
    "start_time": "2024-02-29T11:57:34.615Z"
   },
   {
    "duration": 8,
    "start_time": "2024-02-29T11:57:34.958Z"
   },
   {
    "duration": 6,
    "start_time": "2024-02-29T11:57:34.968Z"
   },
   {
    "duration": 10,
    "start_time": "2024-02-29T11:57:34.975Z"
   },
   {
    "duration": 29,
    "start_time": "2024-02-29T11:57:34.987Z"
   },
   {
    "duration": 8,
    "start_time": "2024-02-29T11:57:35.017Z"
   },
   {
    "duration": 14,
    "start_time": "2024-02-29T11:57:35.027Z"
   },
   {
    "duration": 18,
    "start_time": "2024-02-29T11:57:35.043Z"
   },
   {
    "duration": 64,
    "start_time": "2024-02-29T11:57:35.062Z"
   },
   {
    "duration": 75,
    "start_time": "2024-02-29T11:57:35.127Z"
   },
   {
    "duration": 8,
    "start_time": "2024-02-29T11:57:35.203Z"
   },
   {
    "duration": 31,
    "start_time": "2024-02-29T11:57:35.212Z"
   },
   {
    "duration": 266,
    "start_time": "2024-02-29T11:57:35.248Z"
   },
   {
    "duration": 200,
    "start_time": "2024-02-29T11:57:35.516Z"
   },
   {
    "duration": 11,
    "start_time": "2024-02-29T11:57:35.718Z"
   },
   {
    "duration": 9,
    "start_time": "2024-02-29T11:57:35.731Z"
   },
   {
    "duration": 10,
    "start_time": "2024-02-29T11:57:35.742Z"
   },
   {
    "duration": 9,
    "start_time": "2024-02-29T11:57:35.754Z"
   },
   {
    "duration": 8,
    "start_time": "2024-02-29T11:57:35.765Z"
   },
   {
    "duration": 40,
    "start_time": "2024-02-29T11:57:35.775Z"
   },
   {
    "duration": 46,
    "start_time": "2024-02-29T11:57:35.817Z"
   },
   {
    "duration": 50,
    "start_time": "2024-02-29T11:57:35.865Z"
   },
   {
    "duration": 5,
    "start_time": "2024-02-29T11:57:35.917Z"
   },
   {
    "duration": 8,
    "start_time": "2024-02-29T11:57:35.924Z"
   },
   {
    "duration": 9,
    "start_time": "2024-02-29T11:57:35.933Z"
   },
   {
    "duration": 100,
    "start_time": "2024-02-29T11:57:35.944Z"
   },
   {
    "duration": 30,
    "start_time": "2024-02-29T11:57:36.046Z"
   },
   {
    "duration": 9,
    "start_time": "2024-02-29T11:57:36.078Z"
   },
   {
    "duration": 12,
    "start_time": "2024-02-29T11:57:36.088Z"
   },
   {
    "duration": 4,
    "start_time": "2024-02-29T11:57:36.115Z"
   },
   {
    "duration": 6,
    "start_time": "2024-02-29T11:57:36.121Z"
   },
   {
    "duration": 6,
    "start_time": "2024-02-29T11:57:36.128Z"
   },
   {
    "duration": 5,
    "start_time": "2024-02-29T11:57:36.136Z"
   },
   {
    "duration": 9,
    "start_time": "2024-02-29T11:57:36.143Z"
   },
   {
    "duration": 14,
    "start_time": "2024-02-29T11:57:36.154Z"
   },
   {
    "duration": 21,
    "start_time": "2024-02-29T11:57:36.169Z"
   },
   {
    "duration": 24,
    "start_time": "2024-02-29T11:57:36.191Z"
   },
   {
    "duration": 9,
    "start_time": "2024-02-29T11:57:36.217Z"
   },
   {
    "duration": 90,
    "start_time": "2024-02-29T12:03:12.775Z"
   },
   {
    "duration": 76,
    "start_time": "2024-02-29T12:11:10.561Z"
   },
   {
    "duration": 128,
    "start_time": "2024-02-29T12:12:09.363Z"
   },
   {
    "duration": 76,
    "start_time": "2024-02-29T12:12:43.593Z"
   }
  ],
  "kernelspec": {
   "display_name": "Python 3 (ipykernel)",
   "language": "python",
   "name": "python3"
  },
  "language_info": {
   "codemirror_mode": {
    "name": "ipython",
    "version": 3
   },
   "file_extension": ".py",
   "mimetype": "text/x-python",
   "name": "python",
   "nbconvert_exporter": "python",
   "pygments_lexer": "ipython3",
   "version": "3.10.9"
  },
  "toc": {
   "base_numbering": 1,
   "nav_menu": {},
   "number_sections": true,
   "sideBar": true,
   "skip_h1_title": true,
   "title_cell": "Table of Contents",
   "title_sidebar": "Contents",
   "toc_cell": false,
   "toc_position": {},
   "toc_section_display": true,
   "toc_window_display": false
  }
 },
 "nbformat": 4,
 "nbformat_minor": 2
}
